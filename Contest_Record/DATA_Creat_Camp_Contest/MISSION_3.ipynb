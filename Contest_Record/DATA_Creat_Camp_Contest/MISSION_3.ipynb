{
 "cells": [
  {
   "cell_type": "markdown",
   "id": "95c54281",
   "metadata": {},
   "source": [
    "## 공주대인공팀 미션3코드_resent_50모델 사용"
   ]
  },
  {
   "cell_type": "code",
   "execution_count": 1,
   "id": "47dd4257",
   "metadata": {},
   "outputs": [],
   "source": [
    "import torch\n",
    "import torch.nn as nn\n",
    "import torch.optim as optim\n",
    "import torchvision\n",
    "from torchvision import transforms, models, datasets\n",
    "from torch.utils.data import DataLoader\n",
    "from torchvision.datasets import ImageFolder\n",
    "from tqdm import tqdm\n",
    "import matplotlib.pyplot as plt\n",
    "import os"
   ]
  },
  {
   "cell_type": "code",
   "execution_count": 2,
   "id": "e85f49ac",
   "metadata": {},
   "outputs": [],
   "source": [
    "device = torch.device('cuda') if torch.cuda.is_available() else torch.device('cpu') #GPU 할당"
   ]
  },
  {
   "cell_type": "markdown",
   "id": "e0019cb0-af83-4b0f-afdf-4c48014b229a",
   "metadata": {},
   "source": [
    "하이퍼 파라미터 값을 지정하겠습니다.    \n",
    "하이퍼 파라미터에 대한 설명은 진행하면서 설명드리겠습니다."
   ]
  },
  {
   "cell_type": "code",
   "execution_count": 13,
   "id": "39ca54cf-89b3-4aea-9227-f34c0de160f2",
   "metadata": {},
   "outputs": [],
   "source": [
    "#하이퍼 파라미터 튜닝\n",
    "\n",
    "CFG = {\n",
    "    'EPOCHS':100, #에포크\n",
    "    'LEARNING_RATE':1e-2, #학습률\n",
    "    'BATCH_SIZE':32, #배치사이즈\n",
    "    'SEED':41, #시드\n",
    "    'NUM_CLASSES':13,\n",
    "    \"l1_lambda\" :0.0001, # 0.001은 학습이 안된다.\n",
    "    'weight_decay' : 1e-7,\n",
    "    'CLASS_NAMES' : ['가리비', '갈비찜', '고등어', '김치국', \n",
    "                    '낚지볶음', '돼지갈비찜', '된장찌개', \n",
    "                    '떡국', '모듬초밥', '배추김치', '부대찌개', \n",
    "                    '순대', '오리로스구이']\n",
    "}"
   ]
  },
  {
   "cell_type": "code",
   "execution_count": null,
   "id": "b19dcb79",
   "metadata": {},
   "outputs": [],
   "source": []
  },
  {
   "cell_type": "markdown",
   "id": "cb632df0-a41c-4a17-8a2e-81b29509325d",
   "metadata": {},
   "source": [
    "모델의 재현성을 위하여 random seed를 고정하겠습니다."
   ]
  },
  {
   "cell_type": "code",
   "execution_count": 14,
   "id": "a6422473-9876-43f9-8bd0-4ef94e8ce3a1",
   "metadata": {},
   "outputs": [],
   "source": [
    "# Seed 고정\n",
    "import random\n",
    "import numpy as np\n",
    "\n",
    "def seed_everything(seed):\n",
    "    random.seed(seed)\n",
    "    os.environ['PYTHONHASHSEED'] = str(seed)\n",
    "    np.random.seed(seed)\n",
    "    torch.manual_seed(seed)\n",
    "    torch.cuda.manual_seed(seed)\n",
    "    torch.backends.cudnn.deterministic = True\n",
    "    torch.backends.cudnn.benchmark = True\n",
    "\n",
    "seed_everything(CFG['SEED'])"
   ]
  },
  {
   "cell_type": "markdown",
   "id": "12f016d4",
   "metadata": {},
   "source": [
    "## train, valuation data load"
   ]
  },
  {
   "cell_type": "code",
   "execution_count": 15,
   "id": "11bfb752",
   "metadata": {},
   "outputs": [],
   "source": [
    "# 데이터 경로\n",
    "train_data_dir = \"E:/Data_create_cmap/datasets/kfood_health_train_pre_update\"\n",
    "val_data_dir = \"E:/Data_create_cmap/datasets/kfood_health_val/\""
   ]
  },
  {
   "cell_type": "markdown",
   "id": "19278a06",
   "metadata": {},
   "source": [
    "## 전처리"
   ]
  },
  {
   "cell_type": "code",
   "execution_count": 17,
   "id": "d8d4cc1c",
   "metadata": {},
   "outputs": [],
   "source": [
    "import torchvision.transforms as transforms\n",
    "\n",
    "\n",
    "# 이미지 변환 및 데이터셋 생성\n",
    "val_transform = transforms.Compose([\n",
    "    transforms.Resize((224, 224)), \n",
    "    transforms.ToTensor(),\n",
    "    transforms.Normalize((0.002389, 0.001922, 0.001553),\n",
    "                        (0.000240, 0.000234, 0.000258)),\n",
    "])\n",
    "\n",
    "# 이미지 변환 및 데이터셋 생성\n",
    "train_transform = transforms.Compose([\n",
    "    transforms.Resize((224, 224)),  \n",
    "    transforms.ToTensor(),\n",
    "    transforms.Normalize((0.002389, 0.001922, 0.001553),\n",
    "                        (0.000240, 0.000234, 0.000258)),\n",
    "    transforms.RandomHorizontalFlip(),\n",
    "    transforms.RandomVerticalFlip(),\n",
    "    transforms.RandomRotation(50),\n",
    "    # transforms.ToPILImage(),\n",
    "    # transforms.AutoAugment(),\n",
    "    \n",
    "])\n"
   ]
  },
  {
   "cell_type": "markdown",
   "id": "b1c64fcd",
   "metadata": {},
   "source": [
    "## coustom_dataset , Dataloader"
   ]
  },
  {
   "cell_type": "code",
   "execution_count": 19,
   "id": "2dab9607",
   "metadata": {},
   "outputs": [],
   "source": [
    "# 데이터셋 경로 설정\n",
    "train_dataset = ImageFolder(root=train_data_dir, transform = train_transform)\n",
    "val_dataset = ImageFolder(root=val_data_dir, transform = val_transform)\n",
    "\n",
    "\n",
    "# 데이터 로더 설정\n",
    "train_loader = DataLoader(train_dataset, batch_size=CFG['BATCH_SIZE'], shuffle = True)\n",
    "val_loader = DataLoader(val_dataset, batch_size=CFG['BATCH_SIZE'], shuffle = False)"
   ]
  },
  {
   "cell_type": "markdown",
   "id": "ec61d2b2",
   "metadata": {},
   "source": [
    "## Network"
   ]
  },
  {
   "cell_type": "code",
   "execution_count": 20,
   "id": "9cfb3b1d",
   "metadata": {},
   "outputs": [],
   "source": [
    "# 사전 훈련된 ResNet-18 모델 로딩\n",
    "model = models.resnet50(pretrained= False)\n",
    "\n",
    "# pretrained=True: 이 옵션은 사전 훈련된 가중치(pretrained weights)를 사용할 것인지를 지정합니다. \n",
    "# True로 설정하면, 이미 ImageNet 데이터셋 등 대규모 데이터셋에서 사전 훈련된 가중치를 불러와 현재 \n",
    "# 작업에 사용할 수 있습니다. 이것은 전이 학습(transfer learning)을 사용하여 작은 데이터셋에서도 \n",
    "# 좋은 성능을 얻을 수 있는 강력한 방법 중 하나입니다. 사전 훈련된 모델을 사용하면 초기 가중치가 이미\n",
    "# 풍부하게 학습되어 있어 더 빠르게 수렴하고 높은 성능을 얻을 수 있습니다.\n",
    "\n",
    "# 모델의 출력 레이어 변경\n",
    "\n",
    "model.fc = nn.Linear(model.fc.in_features, CFG['NUM_CLASSES'])\n",
    "\n",
    "# # GPU로 모델 이동 \n",
    "model = model.to(device)\n"
   ]
  },
  {
   "cell_type": "markdown",
   "id": "4ee05d56",
   "metadata": {},
   "source": [
    "## Tain, Valuation, EDA"
   ]
  },
  {
   "cell_type": "code",
   "execution_count": 21,
   "id": "f6e2f971",
   "metadata": {},
   "outputs": [],
   "source": [
    "import numpy as np\n",
    "\n",
    "# 학습 함수 정의\n",
    "def train_model(model, criterion, optimizer, num_epochs, device, class_names):\n",
    "    train_losses = []\n",
    "    val_losses = []\n",
    "    train_accuracies = []\n",
    "    val_accuracies = []\n",
    "    \n",
    "    class_correct_train = np.zeros(len(class_names))\n",
    "    class_total_train = np.zeros(len(class_names))\n",
    "    \n",
    "    class_correct_val = np.zeros(len(class_names))\n",
    "    class_total_val = np.zeros(len(class_names))\n",
    "\n",
    "\n",
    "    model_save_path = './best_model.pt'  \n",
    "\n",
    "    best_val_accuracy = 0.0 \n",
    "    \n",
    "\n",
    "    for epoch in range(num_epochs):\n",
    "        model.train()\n",
    "        running_loss = 0.0\n",
    "        correct_train = 0\n",
    "        total_train = 0\n",
    "\n",
    "        for inputs, labels in tqdm(train_loader, \n",
    "                                    total=len(train_loader),\n",
    "                                    mininterval=1, \n",
    "                                    desc=f'Epoch {epoch+1}/{num_epochs}'):\n",
    "\n",
    "            inputs, labels = inputs.to(device), labels.to(device)\n",
    "            optimizer.zero_grad()\n",
    "            outputs = model(inputs)\n",
    "\n",
    "            loss = criterion(outputs, labels)\n",
    "            loss.backward()\n",
    "            optimizer.step()\n",
    "\n",
    "            running_loss += loss.item()\n",
    "\n",
    "            _, predicted = torch.max(outputs.data, 1)\n",
    "            total_train += labels.size(0)\n",
    "            correct_train += (predicted == labels).sum().item()\n",
    "\n",
    "            # 클래스별 정확도 계산\n",
    "            for i in range(len(class_names)):\n",
    "                class_correct_train[i] += ((predicted == labels) & (labels == i)).sum().item()\n",
    "                class_total_train[i] += (labels == i).sum().item()\n",
    "\n",
    "        train_loss = running_loss / len(train_loader)\n",
    "        train_accuracy = 100 * correct_train / total_train\n",
    "\n",
    "        # 검증 데이터에 대한 손실과 정확도 측정\n",
    "        model.eval()\n",
    "        val_loss = 0.0\n",
    "        correct_val = 0\n",
    "        total_val = 0\n",
    "\n",
    "        with torch.no_grad():\n",
    "            for inputs, labels in tqdm(val_loader, \n",
    "                                        total=len(val_loader),\n",
    "                                        mininterval=1, \n",
    "                                        desc=f'Validation'):\n",
    "\n",
    "                inputs, labels = inputs.to(device), labels.to(device)\n",
    "                outputs = model(inputs)\n",
    "                loss = criterion(outputs, labels)\n",
    "                val_loss += loss.item()\n",
    "\n",
    "                _, predicted = torch.max(outputs.data, 1)\n",
    "                total_val += labels.size(0)\n",
    "                correct_val += (predicted == labels).sum().item()\n",
    "\n",
    "                # 클래스별 정확도 계산\n",
    "                for i in range(len(class_names)):\n",
    "                    class_correct_val[i] += ((predicted == labels) & (labels == i)).sum().item()\n",
    "                    class_total_val[i] += (labels == i).sum().item()\n",
    "\n",
    "        val_loss /= len(val_loader)\n",
    "        val_accuracy = 100 * correct_val / total_val\n",
    "\n",
    "        train_losses.append(train_loss)\n",
    "        val_losses.append(val_loss)\n",
    "\n",
    "        train_accuracies.append(train_accuracy)\n",
    "        val_accuracies.append(val_accuracy)\n",
    "\n",
    "        print(f\"Epoch {epoch+1}/{num_epochs}, Train Loss: {train_loss:.4f}, Train Accuracy: {train_accuracy:.2f}%, Validation Loss: {val_loss:.4f}, Validation Accuracy: {val_accuracy:.2f}%\")\n",
    "\n",
    "        if val_accuracy > best_val_accuracy:\n",
    "            best_val_accuracy = val_accuracy\n",
    "            torch.save(model.state_dict(), model_save_path)\n",
    "            print('best_valmodel_save')\n",
    "\n",
    "\n",
    "    # 클래스별 정확도 출력\n",
    "    for i in range(len(class_names)):\n",
    "        class_accuracy_train = 100 * class_correct_train[i] / class_total_train[i]\n",
    "        class_accuracy_val = 100 * class_correct_val[i] / class_total_val[i]\n",
    "        print(f\"Class {class_names[i]} - Train Accuracy: {class_accuracy_train:.2f}%, Validation Accuracy: {class_accuracy_val:.2f}%\")\n",
    "\n",
    "    # 학습 과정 시각화\n",
    "    plt.figure(figsize=(12, 6))\n",
    "    plt.subplot(1, 2, 1)\n",
    "    plt.plot(range(1, num_epochs+1), train_losses, label='Train Loss')\n",
    "    plt.plot(range(1, num_epochs+1), val_losses, label='Validation Loss')\n",
    "    plt.xlabel('Epochs')\n",
    "    plt.ylabel('Loss')\n",
    "    plt.legend()\n",
    "    plt.title('Loss vs. Epochs')\n",
    "\n",
    "    plt.subplot(1, 2, 2)\n",
    "    plt.plot(range(1, num_epochs+1), train_accuracies, label='Train Accuracy')\n",
    "    plt.plot(range(1, num_epochs+1), val_accuracies, label='Validation Accuracy')\n",
    "    plt.xlabel('Epochs')\n",
    "    plt.ylabel('Accuracy (%)')\n",
    "    plt.legend()\n",
    "    plt.title('Accuracy vs. Epochs')\n",
    "\n",
    "    plt.show()\n"
   ]
  },
  {
   "cell_type": "markdown",
   "id": "3121c30a",
   "metadata": {},
   "source": [
    "## main"
   ]
  },
  {
   "cell_type": "code",
   "execution_count": 23,
   "id": "9fd8895e",
   "metadata": {},
   "outputs": [
    {
     "name": "stderr",
     "output_type": "stream",
     "text": [
      "Epoch 1/100: 100%|██████████| 433/433 [15:27<00:00,  2.14s/it]\n",
      "Validation: 100%|██████████| 56/56 [01:38<00:00,  1.75s/it]\n"
     ]
    },
    {
     "name": "stdout",
     "output_type": "stream",
     "text": [
      "Epoch 1/100, Train Loss: 1.9069, Train Accuracy: 37.95%, Validation Loss: 4.5176, Validation Accuracy: 22.79%\n",
      "best_valmodel_save\n"
     ]
    },
    {
     "name": "stderr",
     "output_type": "stream",
     "text": [
      "Epoch 2/100: 100%|██████████| 433/433 [15:01<00:00,  2.08s/it]\n",
      "Validation: 100%|██████████| 56/56 [01:36<00:00,  1.72s/it]\n"
     ]
    },
    {
     "name": "stdout",
     "output_type": "stream",
     "text": [
      "Epoch 2/100, Train Loss: 1.4445, Train Accuracy: 53.58%, Validation Loss: 1.7767, Validation Accuracy: 40.82%\n",
      "best_valmodel_save\n"
     ]
    },
    {
     "name": "stderr",
     "output_type": "stream",
     "text": [
      "Epoch 3/100: 100%|██████████| 433/433 [15:02<00:00,  2.08s/it]\n",
      "Validation: 100%|██████████| 56/56 [01:36<00:00,  1.72s/it]\n"
     ]
    },
    {
     "name": "stdout",
     "output_type": "stream",
     "text": [
      "Epoch 3/100, Train Loss: 1.2756, Train Accuracy: 58.56%, Validation Loss: 1.5468, Validation Accuracy: 55.33%\n",
      "best_valmodel_save\n"
     ]
    },
    {
     "name": "stderr",
     "output_type": "stream",
     "text": [
      "Epoch 4/100: 100%|██████████| 433/433 [14:50<00:00,  2.06s/it]\n",
      "Validation: 100%|██████████| 56/56 [01:35<00:00,  1.70s/it]\n"
     ]
    },
    {
     "name": "stdout",
     "output_type": "stream",
     "text": [
      "Epoch 4/100, Train Loss: 1.1026, Train Accuracy: 64.75%, Validation Loss: 1.3626, Validation Accuracy: 59.41%\n",
      "best_valmodel_save\n"
     ]
    },
    {
     "name": "stderr",
     "output_type": "stream",
     "text": [
      "Epoch 5/100: 100%|██████████| 433/433 [14:30<00:00,  2.01s/it]\n",
      "Validation: 100%|██████████| 56/56 [01:36<00:00,  1.72s/it]\n"
     ]
    },
    {
     "name": "stdout",
     "output_type": "stream",
     "text": [
      "Epoch 5/100, Train Loss: 1.0247, Train Accuracy: 66.73%, Validation Loss: 2.1871, Validation Accuracy: 41.72%\n"
     ]
    },
    {
     "name": "stderr",
     "output_type": "stream",
     "text": [
      "Epoch 6/100: 100%|██████████| 433/433 [14:37<00:00,  2.03s/it]\n",
      "Validation: 100%|██████████| 56/56 [01:35<00:00,  1.70s/it]\n"
     ]
    },
    {
     "name": "stdout",
     "output_type": "stream",
     "text": [
      "Epoch 6/100, Train Loss: 0.9174, Train Accuracy: 70.42%, Validation Loss: 1.3524, Validation Accuracy: 58.39%\n"
     ]
    },
    {
     "name": "stderr",
     "output_type": "stream",
     "text": [
      "Epoch 7/100: 100%|██████████| 433/433 [14:31<00:00,  2.01s/it]\n",
      "Validation: 100%|██████████| 56/56 [01:34<00:00,  1.68s/it]\n"
     ]
    },
    {
     "name": "stdout",
     "output_type": "stream",
     "text": [
      "Epoch 7/100, Train Loss: 0.8408, Train Accuracy: 72.32%, Validation Loss: 0.9328, Validation Accuracy: 70.35%\n",
      "best_valmodel_save\n"
     ]
    },
    {
     "name": "stderr",
     "output_type": "stream",
     "text": [
      "Epoch 8/100: 100%|██████████| 433/433 [14:32<00:00,  2.01s/it]\n",
      "Validation: 100%|██████████| 56/56 [01:36<00:00,  1.73s/it]\n"
     ]
    },
    {
     "name": "stdout",
     "output_type": "stream",
     "text": [
      "Epoch 8/100, Train Loss: 0.7802, Train Accuracy: 74.06%, Validation Loss: 0.9902, Validation Accuracy: 69.84%\n"
     ]
    },
    {
     "name": "stderr",
     "output_type": "stream",
     "text": [
      "Epoch 9/100: 100%|██████████| 433/433 [14:30<00:00,  2.01s/it]\n",
      "Validation: 100%|██████████| 56/56 [01:33<00:00,  1.68s/it]\n"
     ]
    },
    {
     "name": "stdout",
     "output_type": "stream",
     "text": [
      "Epoch 9/100, Train Loss: 0.7073, Train Accuracy: 76.31%, Validation Loss: 1.5875, Validation Accuracy: 58.56%\n"
     ]
    },
    {
     "name": "stderr",
     "output_type": "stream",
     "text": [
      "Epoch 10/100: 100%|██████████| 433/433 [14:29<00:00,  2.01s/it]\n",
      "Validation: 100%|██████████| 56/56 [01:33<00:00,  1.68s/it]\n"
     ]
    },
    {
     "name": "stdout",
     "output_type": "stream",
     "text": [
      "Epoch 10/100, Train Loss: 0.6810, Train Accuracy: 77.41%, Validation Loss: 2.4241, Validation Accuracy: 49.49%\n"
     ]
    },
    {
     "name": "stderr",
     "output_type": "stream",
     "text": [
      "Epoch 11/100: 100%|██████████| 433/433 [14:28<00:00,  2.01s/it]\n",
      "Validation: 100%|██████████| 56/56 [01:34<00:00,  1.68s/it]\n"
     ]
    },
    {
     "name": "stdout",
     "output_type": "stream",
     "text": [
      "Epoch 11/100, Train Loss: 0.6467, Train Accuracy: 78.11%, Validation Loss: 0.9793, Validation Accuracy: 72.45%\n",
      "best_valmodel_save\n"
     ]
    },
    {
     "name": "stderr",
     "output_type": "stream",
     "text": [
      "Epoch 12/100: 100%|██████████| 433/433 [14:26<00:00,  2.00s/it]\n",
      "Validation: 100%|██████████| 56/56 [01:33<00:00,  1.67s/it]\n"
     ]
    },
    {
     "name": "stdout",
     "output_type": "stream",
     "text": [
      "Epoch 12/100, Train Loss: 0.5928, Train Accuracy: 79.72%, Validation Loss: 0.8833, Validation Accuracy: 72.45%\n"
     ]
    },
    {
     "name": "stderr",
     "output_type": "stream",
     "text": [
      "Epoch 13/100: 100%|██████████| 433/433 [14:24<00:00,  2.00s/it]\n",
      "Validation: 100%|██████████| 56/56 [01:33<00:00,  1.67s/it]\n"
     ]
    },
    {
     "name": "stdout",
     "output_type": "stream",
     "text": [
      "Epoch 13/100, Train Loss: 0.5355, Train Accuracy: 81.57%, Validation Loss: 1.0029, Validation Accuracy: 68.93%\n"
     ]
    },
    {
     "name": "stderr",
     "output_type": "stream",
     "text": [
      "Epoch 14/100: 100%|██████████| 433/433 [14:23<00:00,  2.00s/it]\n",
      "Validation: 100%|██████████| 56/56 [01:33<00:00,  1.68s/it]\n"
     ]
    },
    {
     "name": "stdout",
     "output_type": "stream",
     "text": [
      "Epoch 14/100, Train Loss: 0.5099, Train Accuracy: 82.59%, Validation Loss: 1.0477, Validation Accuracy: 67.57%\n"
     ]
    },
    {
     "name": "stderr",
     "output_type": "stream",
     "text": [
      "Epoch 15/100: 100%|██████████| 433/433 [14:25<00:00,  2.00s/it]\n",
      "Validation: 100%|██████████| 56/56 [01:34<00:00,  1.68s/it]\n"
     ]
    },
    {
     "name": "stdout",
     "output_type": "stream",
     "text": [
      "Epoch 15/100, Train Loss: 0.4647, Train Accuracy: 84.11%, Validation Loss: 1.0719, Validation Accuracy: 69.50%\n"
     ]
    },
    {
     "name": "stderr",
     "output_type": "stream",
     "text": [
      "Epoch 16/100: 100%|██████████| 433/433 [14:26<00:00,  2.00s/it]\n",
      "Validation: 100%|██████████| 56/56 [01:34<00:00,  1.68s/it]\n"
     ]
    },
    {
     "name": "stdout",
     "output_type": "stream",
     "text": [
      "Epoch 16/100, Train Loss: 0.4298, Train Accuracy: 85.08%, Validation Loss: 1.2130, Validation Accuracy: 66.55%\n"
     ]
    },
    {
     "name": "stderr",
     "output_type": "stream",
     "text": [
      "Epoch 17/100: 100%|██████████| 433/433 [14:27<00:00,  2.00s/it]\n",
      "Validation: 100%|██████████| 56/56 [01:33<00:00,  1.68s/it]\n"
     ]
    },
    {
     "name": "stdout",
     "output_type": "stream",
     "text": [
      "Epoch 17/100, Train Loss: 0.4077, Train Accuracy: 85.74%, Validation Loss: 0.6852, Validation Accuracy: 77.89%\n",
      "best_valmodel_save\n"
     ]
    },
    {
     "name": "stderr",
     "output_type": "stream",
     "text": [
      "Epoch 18/100: 100%|██████████| 433/433 [14:23<00:00,  1.99s/it]\n",
      "Validation: 100%|██████████| 56/56 [01:33<00:00,  1.68s/it]\n"
     ]
    },
    {
     "name": "stdout",
     "output_type": "stream",
     "text": [
      "Epoch 18/100, Train Loss: 0.3711, Train Accuracy: 87.36%, Validation Loss: 0.7726, Validation Accuracy: 76.53%\n"
     ]
    },
    {
     "name": "stderr",
     "output_type": "stream",
     "text": [
      "Epoch 19/100: 100%|██████████| 433/433 [14:22<00:00,  1.99s/it]\n",
      "Validation: 100%|██████████| 56/56 [01:35<00:00,  1.70s/it]\n"
     ]
    },
    {
     "name": "stdout",
     "output_type": "stream",
     "text": [
      "Epoch 19/100, Train Loss: 0.3378, Train Accuracy: 87.97%, Validation Loss: 0.7113, Validation Accuracy: 80.84%\n",
      "best_valmodel_save\n"
     ]
    },
    {
     "name": "stderr",
     "output_type": "stream",
     "text": [
      "Epoch 20/100: 100%|██████████| 433/433 [14:27<00:00,  2.00s/it]\n",
      "Validation: 100%|██████████| 56/56 [01:34<00:00,  1.69s/it]\n"
     ]
    },
    {
     "name": "stdout",
     "output_type": "stream",
     "text": [
      "Epoch 20/100, Train Loss: 0.3135, Train Accuracy: 88.95%, Validation Loss: 1.6366, Validation Accuracy: 60.03%\n"
     ]
    },
    {
     "name": "stderr",
     "output_type": "stream",
     "text": [
      "Epoch 21/100: 100%|██████████| 433/433 [14:30<00:00,  2.01s/it]\n",
      "Validation: 100%|██████████| 56/56 [01:34<00:00,  1.69s/it]\n"
     ]
    },
    {
     "name": "stdout",
     "output_type": "stream",
     "text": [
      "Epoch 21/100, Train Loss: 0.2955, Train Accuracy: 89.42%, Validation Loss: 0.5518, Validation Accuracy: 83.45%\n",
      "best_valmodel_save\n"
     ]
    },
    {
     "name": "stderr",
     "output_type": "stream",
     "text": [
      "Epoch 22/100: 100%|██████████| 433/433 [14:32<00:00,  2.02s/it]\n",
      "Validation: 100%|██████████| 56/56 [01:34<00:00,  1.69s/it]\n"
     ]
    },
    {
     "name": "stdout",
     "output_type": "stream",
     "text": [
      "Epoch 22/100, Train Loss: 0.2754, Train Accuracy: 90.20%, Validation Loss: 0.3685, Validation Accuracy: 87.41%\n",
      "best_valmodel_save\n"
     ]
    },
    {
     "name": "stderr",
     "output_type": "stream",
     "text": [
      "Epoch 23/100: 100%|██████████| 433/433 [14:34<00:00,  2.02s/it]\n",
      "Validation: 100%|██████████| 56/56 [01:34<00:00,  1.68s/it]\n"
     ]
    },
    {
     "name": "stdout",
     "output_type": "stream",
     "text": [
      "Epoch 23/100, Train Loss: 0.2689, Train Accuracy: 90.36%, Validation Loss: 0.3722, Validation Accuracy: 88.61%\n",
      "best_valmodel_save\n"
     ]
    },
    {
     "name": "stderr",
     "output_type": "stream",
     "text": [
      "Epoch 24/100: 100%|██████████| 433/433 [14:33<00:00,  2.02s/it]\n",
      "Validation: 100%|██████████| 56/56 [01:34<00:00,  1.69s/it]\n"
     ]
    },
    {
     "name": "stdout",
     "output_type": "stream",
     "text": [
      "Epoch 24/100, Train Loss: 0.2432, Train Accuracy: 91.33%, Validation Loss: 0.3870, Validation Accuracy: 88.04%\n"
     ]
    },
    {
     "name": "stderr",
     "output_type": "stream",
     "text": [
      "Epoch 25/100: 100%|██████████| 433/433 [14:33<00:00,  2.02s/it]\n",
      "Validation: 100%|██████████| 56/56 [01:34<00:00,  1.69s/it]\n"
     ]
    },
    {
     "name": "stdout",
     "output_type": "stream",
     "text": [
      "Epoch 25/100, Train Loss: 0.2244, Train Accuracy: 91.90%, Validation Loss: 0.7870, Validation Accuracy: 79.42%\n"
     ]
    },
    {
     "name": "stderr",
     "output_type": "stream",
     "text": [
      "Epoch 26/100: 100%|██████████| 433/433 [14:32<00:00,  2.01s/it]\n",
      "Validation: 100%|██████████| 56/56 [01:35<00:00,  1.70s/it]\n"
     ]
    },
    {
     "name": "stdout",
     "output_type": "stream",
     "text": [
      "Epoch 26/100, Train Loss: 0.2208, Train Accuracy: 91.86%, Validation Loss: 0.4720, Validation Accuracy: 86.00%\n"
     ]
    },
    {
     "name": "stderr",
     "output_type": "stream",
     "text": [
      "Epoch 27/100: 100%|██████████| 433/433 [14:33<00:00,  2.02s/it]\n",
      "Validation: 100%|██████████| 56/56 [01:34<00:00,  1.70s/it]\n"
     ]
    },
    {
     "name": "stdout",
     "output_type": "stream",
     "text": [
      "Epoch 27/100, Train Loss: 0.2093, Train Accuracy: 92.30%, Validation Loss: 1.8077, Validation Accuracy: 56.75%\n"
     ]
    },
    {
     "name": "stderr",
     "output_type": "stream",
     "text": [
      "Epoch 28/100: 100%|██████████| 433/433 [14:35<00:00,  2.02s/it]\n",
      "Validation: 100%|██████████| 56/56 [01:34<00:00,  1.69s/it]\n"
     ]
    },
    {
     "name": "stdout",
     "output_type": "stream",
     "text": [
      "Epoch 28/100, Train Loss: 0.1913, Train Accuracy: 92.86%, Validation Loss: 0.4858, Validation Accuracy: 85.09%\n"
     ]
    },
    {
     "name": "stderr",
     "output_type": "stream",
     "text": [
      "Epoch 29/100: 100%|██████████| 433/433 [13:44<00:00,  1.90s/it]\n",
      "Validation: 100%|██████████| 56/56 [01:28<00:00,  1.58s/it]\n"
     ]
    },
    {
     "name": "stdout",
     "output_type": "stream",
     "text": [
      "Epoch 29/100, Train Loss: 0.1981, Train Accuracy: 92.82%, Validation Loss: 0.3248, Validation Accuracy: 88.89%\n",
      "best_valmodel_save\n"
     ]
    },
    {
     "name": "stderr",
     "output_type": "stream",
     "text": [
      "Epoch 30/100: 100%|██████████| 433/433 [13:31<00:00,  1.87s/it]\n",
      "Validation: 100%|██████████| 56/56 [01:27<00:00,  1.57s/it]\n"
     ]
    },
    {
     "name": "stdout",
     "output_type": "stream",
     "text": [
      "Epoch 30/100, Train Loss: 0.1698, Train Accuracy: 93.64%, Validation Loss: 0.5271, Validation Accuracy: 83.79%\n"
     ]
    },
    {
     "name": "stderr",
     "output_type": "stream",
     "text": [
      "Epoch 31/100: 100%|██████████| 433/433 [13:34<00:00,  1.88s/it]\n",
      "Validation: 100%|██████████| 56/56 [01:28<00:00,  1.59s/it]\n"
     ]
    },
    {
     "name": "stdout",
     "output_type": "stream",
     "text": [
      "Epoch 31/100, Train Loss: 0.1560, Train Accuracy: 94.14%, Validation Loss: 0.3694, Validation Accuracy: 92.06%\n",
      "best_valmodel_save\n"
     ]
    },
    {
     "name": "stderr",
     "output_type": "stream",
     "text": [
      "Epoch 32/100: 100%|██████████| 433/433 [13:31<00:00,  1.87s/it]\n",
      "Validation: 100%|██████████| 56/56 [01:29<00:00,  1.61s/it]\n"
     ]
    },
    {
     "name": "stdout",
     "output_type": "stream",
     "text": [
      "Epoch 32/100, Train Loss: 0.1782, Train Accuracy: 93.47%, Validation Loss: 0.3261, Validation Accuracy: 89.63%\n"
     ]
    },
    {
     "name": "stderr",
     "output_type": "stream",
     "text": [
      "Epoch 33/100: 100%|██████████| 433/433 [13:31<00:00,  1.87s/it]\n",
      "Validation: 100%|██████████| 56/56 [01:29<00:00,  1.60s/it]\n"
     ]
    },
    {
     "name": "stdout",
     "output_type": "stream",
     "text": [
      "Epoch 33/100, Train Loss: 0.1496, Train Accuracy: 94.24%, Validation Loss: 0.2725, Validation Accuracy: 90.82%\n"
     ]
    },
    {
     "name": "stderr",
     "output_type": "stream",
     "text": [
      "Epoch 34/100: 100%|██████████| 433/433 [13:34<00:00,  1.88s/it]\n",
      "Validation: 100%|██████████| 56/56 [01:28<00:00,  1.58s/it]\n"
     ]
    },
    {
     "name": "stdout",
     "output_type": "stream",
     "text": [
      "Epoch 34/100, Train Loss: 0.1622, Train Accuracy: 93.94%, Validation Loss: 0.1868, Validation Accuracy: 92.74%\n",
      "best_valmodel_save\n"
     ]
    },
    {
     "name": "stderr",
     "output_type": "stream",
     "text": [
      "Epoch 35/100: 100%|██████████| 433/433 [13:31<00:00,  1.87s/it]\n",
      "Validation: 100%|██████████| 56/56 [01:28<00:00,  1.58s/it]\n"
     ]
    },
    {
     "name": "stdout",
     "output_type": "stream",
     "text": [
      "Epoch 35/100, Train Loss: 0.1360, Train Accuracy: 95.10%, Validation Loss: 0.3898, Validation Accuracy: 90.14%\n"
     ]
    },
    {
     "name": "stderr",
     "output_type": "stream",
     "text": [
      "Epoch 36/100: 100%|██████████| 433/433 [13:28<00:00,  1.87s/it]\n",
      "Validation: 100%|██████████| 56/56 [01:27<00:00,  1.56s/it]\n"
     ]
    },
    {
     "name": "stdout",
     "output_type": "stream",
     "text": [
      "Epoch 36/100, Train Loss: 0.1317, Train Accuracy: 94.74%, Validation Loss: 0.8290, Validation Accuracy: 83.33%\n"
     ]
    },
    {
     "name": "stderr",
     "output_type": "stream",
     "text": [
      "Epoch 37/100: 100%|██████████| 433/433 [13:51<00:00,  1.92s/it]\n",
      "Validation: 100%|██████████| 56/56 [01:35<00:00,  1.71s/it]\n"
     ]
    },
    {
     "name": "stdout",
     "output_type": "stream",
     "text": [
      "Epoch 37/100, Train Loss: 0.1319, Train Accuracy: 94.94%, Validation Loss: 0.2749, Validation Accuracy: 89.91%\n"
     ]
    },
    {
     "name": "stderr",
     "output_type": "stream",
     "text": [
      "Epoch 38/100: 100%|██████████| 433/433 [14:37<00:00,  2.03s/it]\n",
      "Validation: 100%|██████████| 56/56 [01:34<00:00,  1.69s/it]\n"
     ]
    },
    {
     "name": "stdout",
     "output_type": "stream",
     "text": [
      "Epoch 38/100, Train Loss: 0.1313, Train Accuracy: 94.95%, Validation Loss: 0.7175, Validation Accuracy: 84.75%\n"
     ]
    },
    {
     "name": "stderr",
     "output_type": "stream",
     "text": [
      "Epoch 39/100: 100%|██████████| 433/433 [14:29<00:00,  2.01s/it]\n",
      "Validation: 100%|██████████| 56/56 [01:34<00:00,  1.68s/it]\n"
     ]
    },
    {
     "name": "stdout",
     "output_type": "stream",
     "text": [
      "Epoch 39/100, Train Loss: 0.1338, Train Accuracy: 95.10%, Validation Loss: 1.3710, Validation Accuracy: 74.60%\n"
     ]
    },
    {
     "name": "stderr",
     "output_type": "stream",
     "text": [
      "Epoch 40/100: 100%|██████████| 433/433 [14:26<00:00,  2.00s/it]\n",
      "Validation: 100%|██████████| 56/56 [01:33<00:00,  1.67s/it]\n"
     ]
    },
    {
     "name": "stdout",
     "output_type": "stream",
     "text": [
      "Epoch 40/100, Train Loss: 0.1183, Train Accuracy: 95.62%, Validation Loss: 0.2956, Validation Accuracy: 89.63%\n"
     ]
    },
    {
     "name": "stderr",
     "output_type": "stream",
     "text": [
      "Epoch 41/100: 100%|██████████| 433/433 [14:27<00:00,  2.00s/it]\n",
      "Validation: 100%|██████████| 56/56 [01:34<00:00,  1.69s/it]\n"
     ]
    },
    {
     "name": "stdout",
     "output_type": "stream",
     "text": [
      "Epoch 41/100, Train Loss: 0.1180, Train Accuracy: 95.24%, Validation Loss: 0.4108, Validation Accuracy: 88.49%\n"
     ]
    },
    {
     "name": "stderr",
     "output_type": "stream",
     "text": [
      "Epoch 42/100: 100%|██████████| 433/433 [14:28<00:00,  2.01s/it]\n",
      "Validation: 100%|██████████| 56/56 [01:34<00:00,  1.68s/it]\n"
     ]
    },
    {
     "name": "stdout",
     "output_type": "stream",
     "text": [
      "Epoch 42/100, Train Loss: 0.1229, Train Accuracy: 95.20%, Validation Loss: 0.2007, Validation Accuracy: 93.54%\n",
      "best_valmodel_save\n"
     ]
    },
    {
     "name": "stderr",
     "output_type": "stream",
     "text": [
      "Epoch 43/100: 100%|██████████| 433/433 [14:27<00:00,  2.00s/it]\n",
      "Validation: 100%|██████████| 56/56 [01:34<00:00,  1.68s/it]\n"
     ]
    },
    {
     "name": "stdout",
     "output_type": "stream",
     "text": [
      "Epoch 43/100, Train Loss: 0.1150, Train Accuracy: 95.42%, Validation Loss: 0.1734, Validation Accuracy: 93.42%\n"
     ]
    },
    {
     "name": "stderr",
     "output_type": "stream",
     "text": [
      "Epoch 44/100: 100%|██████████| 433/433 [14:27<00:00,  2.00s/it]\n",
      "Validation: 100%|██████████| 56/56 [01:34<00:00,  1.68s/it]\n"
     ]
    },
    {
     "name": "stdout",
     "output_type": "stream",
     "text": [
      "Epoch 44/100, Train Loss: 0.0992, Train Accuracy: 96.11%, Validation Loss: 0.2980, Validation Accuracy: 91.61%\n"
     ]
    },
    {
     "name": "stderr",
     "output_type": "stream",
     "text": [
      "Epoch 45/100: 100%|██████████| 433/433 [14:30<00:00,  2.01s/it]\n",
      "Validation: 100%|██████████| 56/56 [01:35<00:00,  1.70s/it]\n"
     ]
    },
    {
     "name": "stdout",
     "output_type": "stream",
     "text": [
      "Epoch 45/100, Train Loss: 0.1087, Train Accuracy: 95.79%, Validation Loss: 0.1646, Validation Accuracy: 93.82%\n",
      "best_valmodel_save\n"
     ]
    },
    {
     "name": "stderr",
     "output_type": "stream",
     "text": [
      "Epoch 46/100: 100%|██████████| 433/433 [14:35<00:00,  2.02s/it]\n",
      "Validation: 100%|██████████| 56/56 [01:33<00:00,  1.67s/it]\n"
     ]
    },
    {
     "name": "stdout",
     "output_type": "stream",
     "text": [
      "Epoch 46/100, Train Loss: 0.1258, Train Accuracy: 95.14%, Validation Loss: 0.3501, Validation Accuracy: 89.57%\n"
     ]
    },
    {
     "name": "stderr",
     "output_type": "stream",
     "text": [
      "Epoch 47/100: 100%|██████████| 433/433 [14:08<00:00,  1.96s/it]\n",
      "Validation: 100%|██████████| 56/56 [01:30<00:00,  1.62s/it]\n"
     ]
    },
    {
     "name": "stdout",
     "output_type": "stream",
     "text": [
      "Epoch 47/100, Train Loss: 0.0976, Train Accuracy: 96.12%, Validation Loss: 0.1420, Validation Accuracy: 94.39%\n",
      "best_valmodel_save\n"
     ]
    },
    {
     "name": "stderr",
     "output_type": "stream",
     "text": [
      "Epoch 48/100: 100%|██████████| 433/433 [13:54<00:00,  1.93s/it]\n",
      "Validation: 100%|██████████| 56/56 [01:30<00:00,  1.62s/it]\n"
     ]
    },
    {
     "name": "stdout",
     "output_type": "stream",
     "text": [
      "Epoch 48/100, Train Loss: 0.1024, Train Accuracy: 95.72%, Validation Loss: 0.2981, Validation Accuracy: 90.93%\n"
     ]
    },
    {
     "name": "stderr",
     "output_type": "stream",
     "text": [
      "Epoch 49/100: 100%|██████████| 433/433 [13:57<00:00,  1.94s/it]\n",
      "Validation: 100%|██████████| 56/56 [01:30<00:00,  1.62s/it]\n"
     ]
    },
    {
     "name": "stdout",
     "output_type": "stream",
     "text": [
      "Epoch 49/100, Train Loss: 0.1032, Train Accuracy: 96.05%, Validation Loss: 0.4901, Validation Accuracy: 89.29%\n"
     ]
    },
    {
     "name": "stderr",
     "output_type": "stream",
     "text": [
      "Epoch 50/100: 100%|██████████| 433/433 [13:56<00:00,  1.93s/it]\n",
      "Validation: 100%|██████████| 56/56 [01:30<00:00,  1.62s/it]\n"
     ]
    },
    {
     "name": "stdout",
     "output_type": "stream",
     "text": [
      "Epoch 50/100, Train Loss: 0.0899, Train Accuracy: 96.42%, Validation Loss: 0.6088, Validation Accuracy: 88.55%\n"
     ]
    },
    {
     "name": "stderr",
     "output_type": "stream",
     "text": [
      "Epoch 51/100: 100%|██████████| 433/433 [13:57<00:00,  1.93s/it]\n",
      "Validation: 100%|██████████| 56/56 [01:30<00:00,  1.61s/it]\n"
     ]
    },
    {
     "name": "stdout",
     "output_type": "stream",
     "text": [
      "Epoch 51/100, Train Loss: 0.0989, Train Accuracy: 95.88%, Validation Loss: 0.2051, Validation Accuracy: 94.22%\n"
     ]
    },
    {
     "name": "stderr",
     "output_type": "stream",
     "text": [
      "Epoch 52/100: 100%|██████████| 433/433 [13:53<00:00,  1.93s/it]\n",
      "Validation: 100%|██████████| 56/56 [01:30<00:00,  1.62s/it]\n"
     ]
    },
    {
     "name": "stdout",
     "output_type": "stream",
     "text": [
      "Epoch 52/100, Train Loss: 0.0968, Train Accuracy: 96.24%, Validation Loss: 0.2330, Validation Accuracy: 93.42%\n"
     ]
    },
    {
     "name": "stderr",
     "output_type": "stream",
     "text": [
      "Epoch 53/100: 100%|██████████| 433/433 [13:55<00:00,  1.93s/it]\n",
      "Validation: 100%|██████████| 56/56 [01:31<00:00,  1.63s/it]\n"
     ]
    },
    {
     "name": "stdout",
     "output_type": "stream",
     "text": [
      "Epoch 53/100, Train Loss: 0.0837, Train Accuracy: 96.63%, Validation Loss: 0.1874, Validation Accuracy: 93.65%\n"
     ]
    },
    {
     "name": "stderr",
     "output_type": "stream",
     "text": [
      "Epoch 54/100: 100%|██████████| 433/433 [13:59<00:00,  1.94s/it]\n",
      "Validation: 100%|██████████| 56/56 [01:31<00:00,  1.63s/it]\n"
     ]
    },
    {
     "name": "stdout",
     "output_type": "stream",
     "text": [
      "Epoch 54/100, Train Loss: 0.0997, Train Accuracy: 95.99%, Validation Loss: 0.1543, Validation Accuracy: 95.35%\n",
      "best_valmodel_save\n"
     ]
    },
    {
     "name": "stderr",
     "output_type": "stream",
     "text": [
      "Epoch 55/100: 100%|██████████| 433/433 [13:57<00:00,  1.94s/it]\n",
      "Validation: 100%|██████████| 56/56 [01:31<00:00,  1.63s/it]\n"
     ]
    },
    {
     "name": "stdout",
     "output_type": "stream",
     "text": [
      "Epoch 55/100, Train Loss: 0.0908, Train Accuracy: 96.29%, Validation Loss: 0.1545, Validation Accuracy: 94.56%\n"
     ]
    },
    {
     "name": "stderr",
     "output_type": "stream",
     "text": [
      "Epoch 56/100: 100%|██████████| 433/433 [13:59<00:00,  1.94s/it]\n",
      "Validation: 100%|██████████| 56/56 [01:30<00:00,  1.62s/it]\n"
     ]
    },
    {
     "name": "stdout",
     "output_type": "stream",
     "text": [
      "Epoch 56/100, Train Loss: 0.0929, Train Accuracy: 96.29%, Validation Loss: 0.1157, Validation Accuracy: 95.58%\n",
      "best_valmodel_save\n"
     ]
    },
    {
     "name": "stderr",
     "output_type": "stream",
     "text": [
      "Epoch 57/100: 100%|██████████| 433/433 [13:59<00:00,  1.94s/it]\n",
      "Validation: 100%|██████████| 56/56 [01:32<00:00,  1.65s/it]\n"
     ]
    },
    {
     "name": "stdout",
     "output_type": "stream",
     "text": [
      "Epoch 57/100, Train Loss: 0.0859, Train Accuracy: 96.58%, Validation Loss: 0.3597, Validation Accuracy: 89.91%\n"
     ]
    },
    {
     "name": "stderr",
     "output_type": "stream",
     "text": [
      "Epoch 58/100: 100%|██████████| 433/433 [13:57<00:00,  1.93s/it]\n",
      "Validation: 100%|██████████| 56/56 [01:32<00:00,  1.65s/it]\n"
     ]
    },
    {
     "name": "stdout",
     "output_type": "stream",
     "text": [
      "Epoch 58/100, Train Loss: 0.0862, Train Accuracy: 96.66%, Validation Loss: 0.1038, Validation Accuracy: 95.69%\n",
      "best_valmodel_save\n"
     ]
    },
    {
     "name": "stderr",
     "output_type": "stream",
     "text": [
      "Epoch 59/100: 100%|██████████| 433/433 [13:58<00:00,  1.94s/it]\n",
      "Validation: 100%|██████████| 56/56 [01:31<00:00,  1.64s/it]\n"
     ]
    },
    {
     "name": "stdout",
     "output_type": "stream",
     "text": [
      "Epoch 59/100, Train Loss: 0.0904, Train Accuracy: 96.34%, Validation Loss: 0.4556, Validation Accuracy: 87.70%\n"
     ]
    },
    {
     "name": "stderr",
     "output_type": "stream",
     "text": [
      "Epoch 60/100: 100%|██████████| 433/433 [13:58<00:00,  1.94s/it]\n",
      "Validation: 100%|██████████| 56/56 [01:31<00:00,  1.63s/it]\n"
     ]
    },
    {
     "name": "stdout",
     "output_type": "stream",
     "text": [
      "Epoch 60/100, Train Loss: 0.0854, Train Accuracy: 96.60%, Validation Loss: 0.5383, Validation Accuracy: 95.18%\n"
     ]
    },
    {
     "name": "stderr",
     "output_type": "stream",
     "text": [
      "Epoch 61/100: 100%|██████████| 433/433 [13:57<00:00,  1.93s/it]\n",
      "Validation: 100%|██████████| 56/56 [01:30<00:00,  1.62s/it]\n"
     ]
    },
    {
     "name": "stdout",
     "output_type": "stream",
     "text": [
      "Epoch 61/100, Train Loss: 0.0948, Train Accuracy: 96.27%, Validation Loss: 0.1544, Validation Accuracy: 94.16%\n"
     ]
    },
    {
     "name": "stderr",
     "output_type": "stream",
     "text": [
      "Epoch 62/100: 100%|██████████| 433/433 [14:12<00:00,  1.97s/it]\n",
      "Validation: 100%|██████████| 56/56 [01:32<00:00,  1.66s/it]\n"
     ]
    },
    {
     "name": "stdout",
     "output_type": "stream",
     "text": [
      "Epoch 62/100, Train Loss: 0.0756, Train Accuracy: 96.88%, Validation Loss: 0.2327, Validation Accuracy: 94.50%\n"
     ]
    },
    {
     "name": "stderr",
     "output_type": "stream",
     "text": [
      "Epoch 63/100: 100%|██████████| 433/433 [14:06<00:00,  1.95s/it]\n",
      "Validation: 100%|██████████| 56/56 [01:30<00:00,  1.62s/it]\n"
     ]
    },
    {
     "name": "stdout",
     "output_type": "stream",
     "text": [
      "Epoch 63/100, Train Loss: 0.0851, Train Accuracy: 96.55%, Validation Loss: 0.6512, Validation Accuracy: 86.51%\n"
     ]
    },
    {
     "name": "stderr",
     "output_type": "stream",
     "text": [
      "Epoch 64/100: 100%|██████████| 433/433 [13:56<00:00,  1.93s/it]\n",
      "Validation: 100%|██████████| 56/56 [01:31<00:00,  1.63s/it]\n"
     ]
    },
    {
     "name": "stdout",
     "output_type": "stream",
     "text": [
      "Epoch 64/100, Train Loss: 0.0840, Train Accuracy: 96.78%, Validation Loss: 0.2824, Validation Accuracy: 92.06%\n"
     ]
    },
    {
     "name": "stderr",
     "output_type": "stream",
     "text": [
      "Epoch 65/100: 100%|██████████| 433/433 [13:58<00:00,  1.94s/it]\n",
      "Validation: 100%|██████████| 56/56 [01:30<00:00,  1.62s/it]\n"
     ]
    },
    {
     "name": "stdout",
     "output_type": "stream",
     "text": [
      "Epoch 65/100, Train Loss: 0.0750, Train Accuracy: 96.84%, Validation Loss: 0.1511, Validation Accuracy: 95.46%\n"
     ]
    },
    {
     "name": "stderr",
     "output_type": "stream",
     "text": [
      "Epoch 66/100: 100%|██████████| 433/433 [13:55<00:00,  1.93s/it]\n",
      "Validation: 100%|██████████| 56/56 [01:31<00:00,  1.64s/it]\n"
     ]
    },
    {
     "name": "stdout",
     "output_type": "stream",
     "text": [
      "Epoch 66/100, Train Loss: 0.0781, Train Accuracy: 96.94%, Validation Loss: 0.1811, Validation Accuracy: 94.44%\n"
     ]
    },
    {
     "name": "stderr",
     "output_type": "stream",
     "text": [
      "Epoch 67/100: 100%|██████████| 433/433 [13:56<00:00,  1.93s/it]\n",
      "Validation: 100%|██████████| 56/56 [01:31<00:00,  1.63s/it]\n"
     ]
    },
    {
     "name": "stdout",
     "output_type": "stream",
     "text": [
      "Epoch 67/100, Train Loss: 0.0710, Train Accuracy: 96.83%, Validation Loss: 0.1106, Validation Accuracy: 95.80%\n",
      "best_valmodel_save\n"
     ]
    },
    {
     "name": "stderr",
     "output_type": "stream",
     "text": [
      "Epoch 68/100: 100%|██████████| 433/433 [13:59<00:00,  1.94s/it]\n",
      "Validation: 100%|██████████| 56/56 [01:31<00:00,  1.63s/it]\n"
     ]
    },
    {
     "name": "stdout",
     "output_type": "stream",
     "text": [
      "Epoch 68/100, Train Loss: 0.0892, Train Accuracy: 96.52%, Validation Loss: 0.1105, Validation Accuracy: 95.07%\n"
     ]
    },
    {
     "name": "stderr",
     "output_type": "stream",
     "text": [
      "Epoch 69/100: 100%|██████████| 433/433 [14:05<00:00,  1.95s/it]\n",
      "Validation: 100%|██████████| 56/56 [01:32<00:00,  1.65s/it]\n"
     ]
    },
    {
     "name": "stdout",
     "output_type": "stream",
     "text": [
      "Epoch 69/100, Train Loss: 0.0727, Train Accuracy: 96.96%, Validation Loss: 0.1688, Validation Accuracy: 94.95%\n"
     ]
    },
    {
     "name": "stderr",
     "output_type": "stream",
     "text": [
      "Epoch 70/100: 100%|██████████| 433/433 [14:15<00:00,  1.98s/it]\n",
      "Validation: 100%|██████████| 56/56 [01:31<00:00,  1.64s/it]\n"
     ]
    },
    {
     "name": "stdout",
     "output_type": "stream",
     "text": [
      "Epoch 70/100, Train Loss: 0.0674, Train Accuracy: 97.03%, Validation Loss: 0.1908, Validation Accuracy: 93.48%\n"
     ]
    },
    {
     "name": "stderr",
     "output_type": "stream",
     "text": [
      "Epoch 71/100: 100%|██████████| 433/433 [14:06<00:00,  1.95s/it]\n",
      "Validation: 100%|██████████| 56/56 [01:32<00:00,  1.66s/it]\n"
     ]
    },
    {
     "name": "stdout",
     "output_type": "stream",
     "text": [
      "Epoch 71/100, Train Loss: 0.0781, Train Accuracy: 96.86%, Validation Loss: 0.1527, Validation Accuracy: 95.69%\n"
     ]
    },
    {
     "name": "stderr",
     "output_type": "stream",
     "text": [
      "Epoch 72/100: 100%|██████████| 433/433 [14:13<00:00,  1.97s/it]\n",
      "Validation: 100%|██████████| 56/56 [01:32<00:00,  1.65s/it]\n"
     ]
    },
    {
     "name": "stdout",
     "output_type": "stream",
     "text": [
      "Epoch 72/100, Train Loss: 0.0852, Train Accuracy: 96.52%, Validation Loss: 0.1504, Validation Accuracy: 94.39%\n"
     ]
    },
    {
     "name": "stderr",
     "output_type": "stream",
     "text": [
      "Epoch 73/100: 100%|██████████| 433/433 [14:15<00:00,  1.98s/it]\n",
      "Validation: 100%|██████████| 56/56 [01:32<00:00,  1.65s/it]\n"
     ]
    },
    {
     "name": "stdout",
     "output_type": "stream",
     "text": [
      "Epoch 73/100, Train Loss: 0.0644, Train Accuracy: 97.23%, Validation Loss: 0.1163, Validation Accuracy: 95.41%\n"
     ]
    },
    {
     "name": "stderr",
     "output_type": "stream",
     "text": [
      "Epoch 74/100: 100%|██████████| 433/433 [14:19<00:00,  1.98s/it]\n",
      "Validation: 100%|██████████| 56/56 [01:33<00:00,  1.66s/it]\n"
     ]
    },
    {
     "name": "stdout",
     "output_type": "stream",
     "text": [
      "Epoch 74/100, Train Loss: 0.0711, Train Accuracy: 96.97%, Validation Loss: 0.1686, Validation Accuracy: 94.61%\n"
     ]
    },
    {
     "name": "stderr",
     "output_type": "stream",
     "text": [
      "Epoch 75/100: 100%|██████████| 433/433 [14:19<00:00,  1.98s/it]\n",
      "Validation: 100%|██████████| 56/56 [01:32<00:00,  1.66s/it]\n"
     ]
    },
    {
     "name": "stdout",
     "output_type": "stream",
     "text": [
      "Epoch 75/100, Train Loss: 0.0800, Train Accuracy: 96.64%, Validation Loss: 0.4229, Validation Accuracy: 89.00%\n"
     ]
    },
    {
     "name": "stderr",
     "output_type": "stream",
     "text": [
      "Epoch 76/100: 100%|██████████| 433/433 [13:55<00:00,  1.93s/it]\n",
      "Validation: 100%|██████████| 56/56 [01:30<00:00,  1.62s/it]\n"
     ]
    },
    {
     "name": "stdout",
     "output_type": "stream",
     "text": [
      "Epoch 76/100, Train Loss: 0.0710, Train Accuracy: 96.97%, Validation Loss: 0.1657, Validation Accuracy: 94.67%\n"
     ]
    },
    {
     "name": "stderr",
     "output_type": "stream",
     "text": [
      "Epoch 77/100: 100%|██████████| 433/433 [13:57<00:00,  1.93s/it]\n",
      "Validation: 100%|██████████| 56/56 [01:30<00:00,  1.62s/it]\n"
     ]
    },
    {
     "name": "stdout",
     "output_type": "stream",
     "text": [
      "Epoch 77/100, Train Loss: 0.0600, Train Accuracy: 97.35%, Validation Loss: 0.1652, Validation Accuracy: 94.27%\n"
     ]
    },
    {
     "name": "stderr",
     "output_type": "stream",
     "text": [
      "Epoch 78/100: 100%|██████████| 433/433 [13:52<00:00,  1.92s/it]\n",
      "Validation: 100%|██████████| 56/56 [01:31<00:00,  1.63s/it]\n"
     ]
    },
    {
     "name": "stdout",
     "output_type": "stream",
     "text": [
      "Epoch 78/100, Train Loss: 0.0915, Train Accuracy: 96.30%, Validation Loss: 0.5138, Validation Accuracy: 89.34%\n"
     ]
    },
    {
     "name": "stderr",
     "output_type": "stream",
     "text": [
      "Epoch 79/100: 100%|██████████| 433/433 [13:52<00:00,  1.92s/it]\n",
      "Validation: 100%|██████████| 56/56 [01:30<00:00,  1.62s/it]\n"
     ]
    },
    {
     "name": "stdout",
     "output_type": "stream",
     "text": [
      "Epoch 79/100, Train Loss: 0.0643, Train Accuracy: 97.33%, Validation Loss: 0.6310, Validation Accuracy: 86.90%\n"
     ]
    },
    {
     "name": "stderr",
     "output_type": "stream",
     "text": [
      "Epoch 80/100: 100%|██████████| 433/433 [13:57<00:00,  1.93s/it]\n",
      "Validation: 100%|██████████| 56/56 [01:31<00:00,  1.63s/it]\n"
     ]
    },
    {
     "name": "stdout",
     "output_type": "stream",
     "text": [
      "Epoch 80/100, Train Loss: 0.0745, Train Accuracy: 96.92%, Validation Loss: 0.1828, Validation Accuracy: 95.58%\n"
     ]
    },
    {
     "name": "stderr",
     "output_type": "stream",
     "text": [
      "Epoch 81/100: 100%|██████████| 433/433 [13:58<00:00,  1.94s/it]\n",
      "Validation: 100%|██████████| 56/56 [01:31<00:00,  1.64s/it]\n"
     ]
    },
    {
     "name": "stdout",
     "output_type": "stream",
     "text": [
      "Epoch 81/100, Train Loss: 0.0710, Train Accuracy: 97.07%, Validation Loss: 0.1450, Validation Accuracy: 96.20%\n",
      "best_valmodel_save\n"
     ]
    },
    {
     "name": "stderr",
     "output_type": "stream",
     "text": [
      "Epoch 82/100: 100%|██████████| 433/433 [13:51<00:00,  1.92s/it]\n",
      "Validation: 100%|██████████| 56/56 [01:31<00:00,  1.64s/it]\n"
     ]
    },
    {
     "name": "stdout",
     "output_type": "stream",
     "text": [
      "Epoch 82/100, Train Loss: 0.0634, Train Accuracy: 97.45%, Validation Loss: 0.1473, Validation Accuracy: 95.01%\n"
     ]
    },
    {
     "name": "stderr",
     "output_type": "stream",
     "text": [
      "Epoch 83/100: 100%|██████████| 433/433 [13:54<00:00,  1.93s/it]\n",
      "Validation: 100%|██████████| 56/56 [01:31<00:00,  1.63s/it]\n"
     ]
    },
    {
     "name": "stdout",
     "output_type": "stream",
     "text": [
      "Epoch 83/100, Train Loss: 0.0603, Train Accuracy: 97.42%, Validation Loss: 0.1580, Validation Accuracy: 95.12%\n"
     ]
    },
    {
     "name": "stderr",
     "output_type": "stream",
     "text": [
      "Epoch 84/100: 100%|██████████| 433/433 [13:54<00:00,  1.93s/it]\n",
      "Validation: 100%|██████████| 56/56 [01:30<00:00,  1.62s/it]\n"
     ]
    },
    {
     "name": "stdout",
     "output_type": "stream",
     "text": [
      "Epoch 84/100, Train Loss: 0.0799, Train Accuracy: 96.92%, Validation Loss: 0.1339, Validation Accuracy: 95.63%\n"
     ]
    },
    {
     "name": "stderr",
     "output_type": "stream",
     "text": [
      "Epoch 85/100: 100%|██████████| 433/433 [13:52<00:00,  1.92s/it]\n",
      "Validation: 100%|██████████| 56/56 [01:30<00:00,  1.61s/it]\n"
     ]
    },
    {
     "name": "stdout",
     "output_type": "stream",
     "text": [
      "Epoch 85/100, Train Loss: 0.0595, Train Accuracy: 97.30%, Validation Loss: 0.1444, Validation Accuracy: 95.80%\n"
     ]
    },
    {
     "name": "stderr",
     "output_type": "stream",
     "text": [
      "Epoch 86/100: 100%|██████████| 433/433 [14:01<00:00,  1.94s/it]\n",
      "Validation: 100%|██████████| 56/56 [01:31<00:00,  1.64s/it]\n"
     ]
    },
    {
     "name": "stdout",
     "output_type": "stream",
     "text": [
      "Epoch 86/100, Train Loss: 0.0738, Train Accuracy: 97.04%, Validation Loss: 0.1378, Validation Accuracy: 95.35%\n"
     ]
    },
    {
     "name": "stderr",
     "output_type": "stream",
     "text": [
      "Epoch 87/100: 100%|██████████| 433/433 [13:58<00:00,  1.94s/it]\n",
      "Validation: 100%|██████████| 56/56 [01:30<00:00,  1.61s/it]\n"
     ]
    },
    {
     "name": "stdout",
     "output_type": "stream",
     "text": [
      "Epoch 87/100, Train Loss: 0.0627, Train Accuracy: 97.31%, Validation Loss: 0.1245, Validation Accuracy: 95.58%\n"
     ]
    },
    {
     "name": "stderr",
     "output_type": "stream",
     "text": [
      "Epoch 88/100: 100%|██████████| 433/433 [13:51<00:00,  1.92s/it]\n",
      "Validation: 100%|██████████| 56/56 [01:30<00:00,  1.61s/it]\n"
     ]
    },
    {
     "name": "stdout",
     "output_type": "stream",
     "text": [
      "Epoch 88/100, Train Loss: 0.0624, Train Accuracy: 97.28%, Validation Loss: 0.1297, Validation Accuracy: 95.86%\n"
     ]
    },
    {
     "name": "stderr",
     "output_type": "stream",
     "text": [
      "Epoch 89/100: 100%|██████████| 433/433 [13:52<00:00,  1.92s/it]\n",
      "Validation: 100%|██████████| 56/56 [01:30<00:00,  1.62s/it]\n"
     ]
    },
    {
     "name": "stdout",
     "output_type": "stream",
     "text": [
      "Epoch 89/100, Train Loss: 0.0682, Train Accuracy: 97.09%, Validation Loss: 0.2446, Validation Accuracy: 94.90%\n"
     ]
    },
    {
     "name": "stderr",
     "output_type": "stream",
     "text": [
      "Epoch 90/100: 100%|██████████| 433/433 [13:51<00:00,  1.92s/it]\n",
      "Validation: 100%|██████████| 56/56 [01:30<00:00,  1.61s/it]\n"
     ]
    },
    {
     "name": "stdout",
     "output_type": "stream",
     "text": [
      "Epoch 90/100, Train Loss: 0.0912, Train Accuracy: 96.28%, Validation Loss: 0.1641, Validation Accuracy: 95.35%\n"
     ]
    },
    {
     "name": "stderr",
     "output_type": "stream",
     "text": [
      "Epoch 91/100: 100%|██████████| 433/433 [14:03<00:00,  1.95s/it]\n",
      "Validation: 100%|██████████| 56/56 [01:33<00:00,  1.67s/it]\n"
     ]
    },
    {
     "name": "stdout",
     "output_type": "stream",
     "text": [
      "Epoch 91/100, Train Loss: 0.0573, Train Accuracy: 97.48%, Validation Loss: 0.1621, Validation Accuracy: 95.69%\n"
     ]
    },
    {
     "name": "stderr",
     "output_type": "stream",
     "text": [
      "Epoch 92/100: 100%|██████████| 433/433 [14:58<00:00,  2.07s/it]\n",
      "Validation: 100%|██████████| 56/56 [01:37<00:00,  1.75s/it]\n"
     ]
    },
    {
     "name": "stdout",
     "output_type": "stream",
     "text": [
      "Epoch 92/100, Train Loss: 0.0618, Train Accuracy: 97.49%, Validation Loss: 0.1011, Validation Accuracy: 96.60%\n",
      "best_valmodel_save\n"
     ]
    },
    {
     "name": "stderr",
     "output_type": "stream",
     "text": [
      "Epoch 93/100: 100%|██████████| 433/433 [14:59<00:00,  2.08s/it]\n",
      "Validation: 100%|██████████| 56/56 [01:35<00:00,  1.70s/it]\n"
     ]
    },
    {
     "name": "stdout",
     "output_type": "stream",
     "text": [
      "Epoch 93/100, Train Loss: 0.0572, Train Accuracy: 97.48%, Validation Loss: 0.1706, Validation Accuracy: 95.29%\n"
     ]
    },
    {
     "name": "stderr",
     "output_type": "stream",
     "text": [
      "Epoch 94/100: 100%|██████████| 433/433 [14:35<00:00,  2.02s/it]\n",
      "Validation: 100%|██████████| 56/56 [01:39<00:00,  1.78s/it]\n"
     ]
    },
    {
     "name": "stdout",
     "output_type": "stream",
     "text": [
      "Epoch 94/100, Train Loss: 0.0733, Train Accuracy: 96.97%, Validation Loss: 0.2229, Validation Accuracy: 93.59%\n"
     ]
    },
    {
     "name": "stderr",
     "output_type": "stream",
     "text": [
      "Epoch 95/100: 100%|██████████| 433/433 [15:23<00:00,  2.13s/it]\n",
      "Validation: 100%|██████████| 56/56 [01:38<00:00,  1.76s/it]\n"
     ]
    },
    {
     "name": "stdout",
     "output_type": "stream",
     "text": [
      "Epoch 95/100, Train Loss: 0.0625, Train Accuracy: 97.26%, Validation Loss: 0.0924, Validation Accuracy: 96.88%\n",
      "best_valmodel_save\n"
     ]
    },
    {
     "name": "stderr",
     "output_type": "stream",
     "text": [
      "Epoch 96/100: 100%|██████████| 433/433 [14:58<00:00,  2.08s/it]\n",
      "Validation: 100%|██████████| 56/56 [01:36<00:00,  1.73s/it]\n"
     ]
    },
    {
     "name": "stdout",
     "output_type": "stream",
     "text": [
      "Epoch 96/100, Train Loss: 0.0572, Train Accuracy: 97.60%, Validation Loss: 0.2301, Validation Accuracy: 94.05%\n"
     ]
    },
    {
     "name": "stderr",
     "output_type": "stream",
     "text": [
      "Epoch 97/100: 100%|██████████| 433/433 [14:50<00:00,  2.06s/it]\n",
      "Validation: 100%|██████████| 56/56 [01:36<00:00,  1.73s/it]\n"
     ]
    },
    {
     "name": "stdout",
     "output_type": "stream",
     "text": [
      "Epoch 97/100, Train Loss: 0.0678, Train Accuracy: 97.25%, Validation Loss: 0.3347, Validation Accuracy: 95.75%\n"
     ]
    },
    {
     "name": "stderr",
     "output_type": "stream",
     "text": [
      "Epoch 98/100: 100%|██████████| 433/433 [14:49<00:00,  2.05s/it]\n",
      "Validation: 100%|██████████| 56/56 [01:36<00:00,  1.73s/it]\n"
     ]
    },
    {
     "name": "stdout",
     "output_type": "stream",
     "text": [
      "Epoch 98/100, Train Loss: 0.0755, Train Accuracy: 97.06%, Validation Loss: 0.1951, Validation Accuracy: 94.95%\n"
     ]
    },
    {
     "name": "stderr",
     "output_type": "stream",
     "text": [
      "Epoch 99/100: 100%|██████████| 433/433 [14:47<00:00,  2.05s/it]\n",
      "Validation: 100%|██████████| 56/56 [01:37<00:00,  1.74s/it]\n"
     ]
    },
    {
     "name": "stdout",
     "output_type": "stream",
     "text": [
      "Epoch 99/100, Train Loss: 0.0568, Train Accuracy: 97.58%, Validation Loss: 0.2176, Validation Accuracy: 96.71%\n"
     ]
    },
    {
     "name": "stderr",
     "output_type": "stream",
     "text": [
      "Epoch 100/100: 100%|██████████| 433/433 [14:46<00:00,  2.05s/it]\n",
      "Validation: 100%|██████████| 56/56 [01:35<00:00,  1.71s/it]\n"
     ]
    },
    {
     "name": "stdout",
     "output_type": "stream",
     "text": [
      "Epoch 100/100, Train Loss: 0.0632, Train Accuracy: 97.32%, Validation Loss: 0.2873, Validation Accuracy: 96.20%\n",
      "Class 가리비 - Train Accuracy: 87.47%, Validation Accuracy: 83.06%\n",
      "Class 갈비찜 - Train Accuracy: 83.75%, Validation Accuracy: 73.55%\n",
      "Class 고등어 - Train Accuracy: 93.31%, Validation Accuracy: 83.64%\n",
      "Class 김치국 - Train Accuracy: 93.67%, Validation Accuracy: 90.97%\n",
      "Class 낚지볶음 - Train Accuracy: 94.59%, Validation Accuracy: 88.35%\n",
      "Class 돼지갈비찜 - Train Accuracy: 81.78%, Validation Accuracy: 76.73%\n",
      "Class 된장찌개 - Train Accuracy: 93.45%, Validation Accuracy: 87.22%\n",
      "Class 떡국 - Train Accuracy: 95.73%, Validation Accuracy: 87.05%\n",
      "Class 모듬초밥 - Train Accuracy: 92.44%, Validation Accuracy: 85.81%\n",
      "Class 배추김치 - Train Accuracy: 93.06%, Validation Accuracy: 89.79%\n",
      "Class 부대찌개 - Train Accuracy: 93.83%, Validation Accuracy: 90.53%\n",
      "Class 순대 - Train Accuracy: 94.39%, Validation Accuracy: 89.60%\n",
      "Class 오리로스구이 - Train Accuracy: 91.93%, Validation Accuracy: 85.17%\n"
     ]
    },
    {
     "data": {
      "image/png": "[encoded data removed]",
      "text/plain": [
       "<Figure size 1200x600 with 2 Axes>"
      ]
     },
     "metadata": {},
     "output_type": "display_data"
    }
   ],
   "source": [
    "criterion = nn.CrossEntropyLoss()\n",
    "optimizer = optim.RAdam(model.parameters(), lr = CFG['LEARNING_RATE']) # weight_decay = CFG['weight_decay']\n",
    "train_model(model, criterion, optimizer, num_epochs = CFG[\"EPOCHS\"],  device = device,  class_names = CFG[\"CLASS_NAMES\"] )"
   ]
  },
  {
   "cell_type": "code",
   "execution_count": null,
   "id": "eabb3a0c",
   "metadata": {},
   "outputs": [],
   "source": []
  }
 ],
 "metadata": {
  "kernelspec": {
   "display_name": "Python 3",
   "language": "python",
   "name": "python3"
  },
  "language_info": {
   "codemirror_mode": {
    "name": "ipython",
    "version": 3
   },
   "file_extension": ".py",
   "mimetype": "text/x-python",
   "name": "python",
   "nbconvert_exporter": "python",
   "pygments_lexer": "ipython3",
   "version": "3.10.11"
  }
 },
 "nbformat": 4,
 "nbformat_minor": 5
}
