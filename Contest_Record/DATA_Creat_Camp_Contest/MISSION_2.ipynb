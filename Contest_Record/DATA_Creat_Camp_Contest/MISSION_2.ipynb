{
 "cells": [
  {
   "cell_type": "code",
   "execution_count": 24,
   "id": "47dd4257",
   "metadata": {},
   "outputs": [],
   "source": [
    "import torch\n",
    "import torch.nn as nn\n",
    "import torch.optim as optim\n",
    "import torchvision\n",
    "from torchvision import transforms, models, datasets\n",
    "from torch.utils.data import DataLoader\n",
    "from torchvision.datasets import ImageFolder\n",
    "from tqdm import tqdm\n",
    "import matplotlib.pyplot as plt\n",
    "import os"
   ]
  },
  {
   "cell_type": "code",
   "execution_count": 25,
   "id": "e85f49ac",
   "metadata": {},
   "outputs": [],
   "source": [
    "device = torch.device('cuda') if torch.cuda.is_available() else torch.device('cpu') #GPU 할당"
   ]
  },
  {
   "cell_type": "markdown",
   "id": "e0019cb0-af83-4b0f-afdf-4c48014b229a",
   "metadata": {},
   "source": [
    "하이퍼 파라미터 값을 지정하겠습니다.    \n",
    "하이퍼 파라미터에 대한 설명은 진행하면서 설명드리겠습니다."
   ]
  },
  {
   "cell_type": "code",
   "execution_count": 26,
   "id": "39ca54cf-89b3-4aea-9227-f34c0de160f2",
   "metadata": {},
   "outputs": [],
   "source": [
    "#하이퍼 파라미터 튜닝\n",
    "\n",
    "CFG = {\n",
    "    'EPOCHS':100, #에포크\n",
    "    'LEARNING_RATE':1e-3, #학습률\n",
    "    'BATCH_SIZE':32, #배치사이즈\n",
    "    'SEED':42, #시드\n",
    "    'NUM_CLASSES':42,\n",
    "    \"l1_lambda\" :0.001, # 0.001은 학습이 안된다.\n",
    "    'weight_decay' : 1e-7,\n",
    "    'CLASS_NAMES' : ['갈비구이', '갈치구이', '감자전', '경단', '계란국',\n",
    "            '계란말이', '계란후라이', '고등어구이', '곱창구이', \n",
    "            '김밥', '김치볶음밥', '김치전', '꿀떡', '누룽지', \n",
    "            '닭갈비', '더덕구이', '동그랑땡', '떡갈비', '떡국_만두국', \n",
    "            '무국', '미역국', '북엇국', '불고기', '비빔밥', '삼겹살', \n",
    "            '새우볶음밥', '생선전', '송편', '시래기국', '알밥', '유부초밥', \n",
    "            '육개장', '잡곡밥', '장어구이', '조개구이', '조기구이', '주먹밥', \n",
    "            '콩나물국', '파전', '호박전', '황태구이', '훈제오리']\n",
    "}"
   ]
  },
  {
   "cell_type": "markdown",
   "id": "cb632df0-a41c-4a17-8a2e-81b29509325d",
   "metadata": {},
   "source": [
    "모델의 재현성을 위하여 random seed를 고정하겠습니다."
   ]
  },
  {
   "cell_type": "code",
   "execution_count": 27,
   "id": "a6422473-9876-43f9-8bd0-4ef94e8ce3a1",
   "metadata": {},
   "outputs": [],
   "source": [
    "# Seed 고정\n",
    "import random\n",
    "import numpy as np\n",
    "\n",
    "def seed_everything(seed):\n",
    "    random.seed(seed)\n",
    "    os.environ['PYTHONHASHSEED'] = str(seed)\n",
    "    np.random.seed(seed)\n",
    "    torch.manual_seed(seed)\n",
    "    torch.cuda.manual_seed(seed)\n",
    "    torch.backends.cudnn.deterministic = True\n",
    "    torch.backends.cudnn.benchmark = True\n",
    "\n",
    "seed_everything(CFG['SEED'])"
   ]
  },
  {
   "cell_type": "markdown",
   "id": "fa7e1e24",
   "metadata": {},
   "source": [
    "## utils"
   ]
  },
  {
   "cell_type": "markdown",
   "id": "12f016d4",
   "metadata": {},
   "source": [
    "## train, valuation data load"
   ]
  },
  {
   "cell_type": "code",
   "execution_count": 28,
   "id": "11bfb752",
   "metadata": {},
   "outputs": [],
   "source": [
    "# 데이터 경로\n",
    "train_data_dir = \"E:/Data_create_cmap/datasets/kfood_train_pre_update_pre_total_gogo_my/\"\n",
    "val_data_dir = \"E:/Data_create_cmap/datasets/kfood_val/\""
   ]
  },
  {
   "cell_type": "markdown",
   "id": "19278a06",
   "metadata": {},
   "source": [
    "## 전처리"
   ]
  },
  {
   "cell_type": "code",
   "execution_count": 29,
   "id": "d8d4cc1c",
   "metadata": {},
   "outputs": [],
   "source": [
    "import torchvision.transforms as transforms\n",
    "\n",
    "\n",
    "# 이미지 변환 및 데이터셋 생성\n",
    "val_transform = transforms.Compose([\n",
    "    transforms.Resize((224, 224)), \n",
    "    transforms.ToTensor(),\n",
    "    transforms.Normalize((0.002289, 0.002015, 0.001657),\n",
    "                        (0.000200, 0.000204, 0.000222)),\n",
    "])\n",
    "\n",
    "# 이미지 변환 및 데이터셋 생성\n",
    "train_transform = transforms.Compose([\n",
    "    transforms.Resize((224, 224)),  # ResNet-18에 맞는 이미지 크기\n",
    "    transforms.RandomHorizontalFlip(),\n",
    "    transforms.RandomVerticalFlip(),\n",
    "    transforms.RandomRotation(50),\n",
    "    #transforms.RandomResizedCrop(224),\n",
    "    transforms.ToTensor(),\n",
    "    transforms.Normalize((0.002289, 0.002015, 0.001657),\n",
    "                        (0.000200, 0.000204, 0.000222)),\n",
    "    # transforms.RandomRotation(10),\n",
    "    # transforms.ToPILImage(),\n",
    "    # transforms.AutoAugment(),\n",
    "    \n",
    "])\n"
   ]
  },
  {
   "cell_type": "markdown",
   "id": "b1c64fcd",
   "metadata": {},
   "source": [
    "## coustom_dataset , Dataloader"
   ]
  },
  {
   "cell_type": "code",
   "execution_count": 31,
   "id": "2dab9607",
   "metadata": {},
   "outputs": [],
   "source": [
    "# 데이터셋 경로 설정\n",
    "train_dataset = ImageFolder(root=train_data_dir + \"train\", transform = train_transform)\n",
    "val_dataset = ImageFolder(root=val_data_dir + \"val\", transform = val_transform)\n",
    "\n",
    "\n",
    "# 데이터 로더 설정\n",
    "train_loader = DataLoader(train_dataset, batch_size=CFG['BATCH_SIZE'], shuffle = True)\n",
    "val_loader = DataLoader(val_dataset, batch_size=CFG['BATCH_SIZE'], shuffle = False)"
   ]
  },
  {
   "cell_type": "markdown",
   "id": "ec61d2b2",
   "metadata": {},
   "source": [
    "## Network"
   ]
  },
  {
   "cell_type": "code",
   "execution_count": 32,
   "id": "9cfb3b1d",
   "metadata": {},
   "outputs": [],
   "source": [
    "# 사전 훈련된 ResNet-18 모델 로딩\n",
    "model = models.resnet18(pretrained= False)\n",
    "\n",
    "# pretrained=True: 이 옵션은 사전 훈련된 가중치(pretrained weights)를 사용할 것인지를 지정합니다. \n",
    "# True로 설정하면, 이미 ImageNet 데이터셋 등 대규모 데이터셋에서 사전 훈련된 가중치를 불러와 현재 \n",
    "# 작업에 사용할 수 있습니다. 이것은 전이 학습(transfer learning)을 사용하여 작은 데이터셋에서도 \n",
    "# 좋은 성능을 얻을 수 있는 강력한 방법 중 하나입니다. 사전 훈련된 모델을 사용하면 초기 가중치가 이미\n",
    "# 풍부하게 학습되어 있어 더 빠르게 수렴하고 높은 성능을 얻을 수 있습니다.\n",
    "\n",
    "# 모델의 출력 레이어 변경\n",
    "\n",
    "model.fc = nn.Linear(model.fc.in_features, CFG['NUM_CLASSES'])\n",
    "\n",
    "# # GPU로 모델 이동 \n",
    "model = model.to(device)\n"
   ]
  },
  {
   "cell_type": "markdown",
   "id": "4ee05d56",
   "metadata": {},
   "source": [
    "## Tain, Valuation, EDA"
   ]
  },
  {
   "cell_type": "markdown",
   "id": "69b79a26",
   "metadata": {},
   "source": [
    "## 원래 + 각 Class 별 정확도 측정 코드 추가"
   ]
  },
  {
   "cell_type": "code",
   "execution_count": 33,
   "id": "f6e2f971",
   "metadata": {},
   "outputs": [],
   "source": [
    "import numpy as np\n",
    "\n",
    "# 학습 함수 정의\n",
    "def train_model(model, criterion, optimizer, num_epochs, device, class_names):\n",
    "    train_losses = []\n",
    "    val_losses = []\n",
    "    train_accuracies = []\n",
    "    val_accuracies = []\n",
    "    \n",
    "    class_correct_train = np.zeros(len(class_names))\n",
    "    class_total_train = np.zeros(len(class_names))\n",
    "    \n",
    "    class_correct_val = np.zeros(len(class_names))\n",
    "    class_total_val = np.zeros(len(class_names))\n",
    "\n",
    "\n",
    "    model_save_path = './best_models.pt'  # 파일 경로 변경\n",
    "\n",
    "    best_val_accuracy = 0.0 \n",
    "    \n",
    "\n",
    "    for epoch in range(num_epochs):\n",
    "        model.train()\n",
    "        running_loss = 0.0\n",
    "        correct_train = 0\n",
    "        total_train = 0\n",
    "\n",
    "        for inputs, labels in tqdm(train_loader, \n",
    "                                    total=len(train_loader),\n",
    "                                    mininterval=1, \n",
    "                                    desc=f'Epoch {epoch+1}/{num_epochs}'):\n",
    "\n",
    "            inputs, labels = inputs.to(device), labels.to(device)\n",
    "            optimizer.zero_grad()\n",
    "            outputs = model(inputs)\n",
    "\n",
    "            loss = criterion(outputs, labels)\n",
    "            loss.backward()\n",
    "            optimizer.step()\n",
    "\n",
    "            running_loss += loss.item()\n",
    "\n",
    "            _, predicted = torch.max(outputs.data, 1)\n",
    "            total_train += labels.size(0)\n",
    "            correct_train += (predicted == labels).sum().item()\n",
    "\n",
    "            # 클래스별 정확도 계산\n",
    "            for i in range(len(class_names)):\n",
    "                class_correct_train[i] += ((predicted == labels) & (labels == i)).sum().item()\n",
    "                class_total_train[i] += (labels == i).sum().item()\n",
    "\n",
    "        train_loss = running_loss / len(train_loader)\n",
    "        train_accuracy = 100 * correct_train / total_train\n",
    "\n",
    "        # 검증 데이터에 대한 손실과 정확도 측정\n",
    "        model.eval()\n",
    "        val_loss = 0.0\n",
    "        correct_val = 0\n",
    "        total_val = 0\n",
    "\n",
    "        with torch.no_grad():\n",
    "            for inputs, labels in tqdm(val_loader, \n",
    "                                        total=len(val_loader),\n",
    "                                        mininterval=1, \n",
    "                                        desc=f'Validation'):\n",
    "\n",
    "                inputs, labels = inputs.to(device), labels.to(device)\n",
    "                outputs = model(inputs)\n",
    "                loss = criterion(outputs, labels)\n",
    "                val_loss += loss.item()\n",
    "\n",
    "                _, predicted = torch.max(outputs.data, 1)\n",
    "                total_val += labels.size(0)\n",
    "                correct_val += (predicted == labels).sum().item()\n",
    "\n",
    "                # 클래스별 정확도 계산\n",
    "                for i in range(len(class_names)):\n",
    "                    class_correct_val[i] += ((predicted == labels) & (labels == i)).sum().item()\n",
    "                    class_total_val[i] += (labels == i).sum().item()\n",
    "\n",
    "        val_loss /= len(val_loader)\n",
    "        val_accuracy = 100 * correct_val / total_val\n",
    "\n",
    "        train_losses.append(train_loss)\n",
    "        val_losses.append(val_loss)\n",
    "\n",
    "        train_accuracies.append(train_accuracy)\n",
    "        val_accuracies.append(val_accuracy)\n",
    "\n",
    "        print(f\"Epoch {epoch+1}/{num_epochs}, Train Loss: {train_loss:.4f}, Train Accuracy: {train_accuracy:.2f}%, Validation Loss: {val_loss:.4f}, Validation Accuracy: {val_accuracy:.2f}%\")\n",
    "\n",
    "        if val_accuracy > best_val_accuracy:\n",
    "            best_val_accuracy = val_accuracy\n",
    "            torch.save(model.state_dict(), model_save_path)\n",
    "\n",
    "\n",
    "    # 클래스별 정확도 출력\n",
    "    for i in range(len(class_names)):\n",
    "        class_accuracy_train = 100 * class_correct_train[i] / class_total_train[i]\n",
    "        class_accuracy_val = 100 * class_correct_val[i] / class_total_val[i]\n",
    "        print(f\"Class {class_names[i]} - Train Accuracy: {class_accuracy_train:.2f}%, Validation Accuracy: {class_accuracy_val:.2f}%\")\n",
    "\n",
    "    # 학습 과정 시각화\n",
    "    plt.figure(figsize=(12, 6))\n",
    "    plt.subplot(1, 2, 1)\n",
    "    plt.plot(range(1, num_epochs+1), train_losses, label='Train Loss')\n",
    "    plt.plot(range(1, num_epochs+1), val_losses, label='Validation Loss')\n",
    "    plt.xlabel('Epochs')\n",
    "    plt.ylabel('Loss')\n",
    "    plt.legend()\n",
    "    plt.title('Loss vs. Epochs')\n",
    "\n",
    "    plt.subplot(1, 2, 2)\n",
    "    plt.plot(range(1, num_epochs+1), train_accuracies, label='Train Accuracy')\n",
    "    plt.plot(range(1, num_epochs+1), val_accuracies, label='Validation Accuracy')\n",
    "    plt.xlabel('Epochs')\n",
    "    plt.ylabel('Accuracy (%)')\n",
    "    plt.legend()\n",
    "    plt.title('Accuracy vs. Epochs')\n",
    "\n",
    "    plt.show()\n"
   ]
  },
  {
   "cell_type": "markdown",
   "id": "3121c30a",
   "metadata": {},
   "source": [
    "## main"
   ]
  },
  {
   "cell_type": "code",
   "execution_count": 34,
   "id": "742d7b72",
   "metadata": {},
   "outputs": [
    {
     "name": "stderr",
     "output_type": "stream",
     "text": [
      "Epoch 1/100: 100%|██████████| 1000/1000 [07:28<00:00,  2.23it/s]\n",
      "Validation: 100%|██████████| 132/132 [00:54<00:00,  2.42it/s]\n"
     ]
    },
    {
     "name": "stdout",
     "output_type": "stream",
     "text": [
      "Epoch 1/100, Train Loss: 2.8869, Train Accuracy: 19.49%, Validation Loss: 2.9638, Validation Accuracy: 20.37%\n"
     ]
    },
    {
     "name": "stderr",
     "output_type": "stream",
     "text": [
      "Epoch 2/100: 100%|██████████| 1000/1000 [07:31<00:00,  2.21it/s]\n",
      "Validation: 100%|██████████| 132/132 [00:56<00:00,  2.34it/s]\n"
     ]
    },
    {
     "name": "stdout",
     "output_type": "stream",
     "text": [
      "Epoch 2/100, Train Loss: 2.3429, Train Accuracy: 32.17%, Validation Loss: 2.6281, Validation Accuracy: 27.92%\n"
     ]
    },
    {
     "name": "stderr",
     "output_type": "stream",
     "text": [
      "Epoch 3/100: 100%|██████████| 1000/1000 [07:33<00:00,  2.21it/s]\n",
      "Validation: 100%|██████████| 132/132 [00:55<00:00,  2.36it/s]\n"
     ]
    },
    {
     "name": "stdout",
     "output_type": "stream",
     "text": [
      "Epoch 3/100, Train Loss: 2.0050, Train Accuracy: 40.32%, Validation Loss: 2.3446, Validation Accuracy: 33.49%\n"
     ]
    },
    {
     "name": "stderr",
     "output_type": "stream",
     "text": [
      "Epoch 4/100: 100%|██████████| 1000/1000 [07:45<00:00,  2.15it/s]\n",
      "Validation: 100%|██████████| 132/132 [00:58<00:00,  2.25it/s]\n"
     ]
    },
    {
     "name": "stdout",
     "output_type": "stream",
     "text": [
      "Epoch 4/100, Train Loss: 1.7692, Train Accuracy: 46.62%, Validation Loss: 2.2098, Validation Accuracy: 39.26%\n"
     ]
    },
    {
     "name": "stderr",
     "output_type": "stream",
     "text": [
      "Epoch 5/100: 100%|██████████| 1000/1000 [07:44<00:00,  2.15it/s]\n",
      "Validation: 100%|██████████| 132/132 [00:57<00:00,  2.30it/s]\n"
     ]
    },
    {
     "name": "stdout",
     "output_type": "stream",
     "text": [
      "Epoch 5/100, Train Loss: 1.5893, Train Accuracy: 51.55%, Validation Loss: 2.1050, Validation Accuracy: 44.62%\n"
     ]
    },
    {
     "name": "stderr",
     "output_type": "stream",
     "text": [
      "Epoch 6/100: 100%|██████████| 1000/1000 [07:47<00:00,  2.14it/s]\n",
      "Validation: 100%|██████████| 132/132 [00:55<00:00,  2.39it/s]\n"
     ]
    },
    {
     "name": "stdout",
     "output_type": "stream",
     "text": [
      "Epoch 6/100, Train Loss: 1.4442, Train Accuracy: 55.39%, Validation Loss: 1.6964, Validation Accuracy: 49.67%\n"
     ]
    },
    {
     "name": "stderr",
     "output_type": "stream",
     "text": [
      "Epoch 7/100: 100%|██████████| 1000/1000 [07:41<00:00,  2.17it/s]\n",
      "Validation: 100%|██████████| 132/132 [00:58<00:00,  2.25it/s]\n"
     ]
    },
    {
     "name": "stdout",
     "output_type": "stream",
     "text": [
      "Epoch 7/100, Train Loss: 1.3257, Train Accuracy: 59.17%, Validation Loss: 1.4733, Validation Accuracy: 55.88%\n"
     ]
    },
    {
     "name": "stderr",
     "output_type": "stream",
     "text": [
      "Epoch 8/100: 100%|██████████| 1000/1000 [08:30<00:00,  1.96it/s]\n",
      "Validation: 100%|██████████| 132/132 [01:09<00:00,  1.89it/s]\n"
     ]
    },
    {
     "name": "stdout",
     "output_type": "stream",
     "text": [
      "Epoch 8/100, Train Loss: 1.2217, Train Accuracy: 62.18%, Validation Loss: 1.4435, Validation Accuracy: 55.72%\n"
     ]
    },
    {
     "name": "stderr",
     "output_type": "stream",
     "text": [
      "Epoch 9/100: 100%|██████████| 1000/1000 [09:13<00:00,  1.81it/s]\n",
      "Validation: 100%|██████████| 132/132 [01:07<00:00,  1.96it/s]\n"
     ]
    },
    {
     "name": "stdout",
     "output_type": "stream",
     "text": [
      "Epoch 9/100, Train Loss: 1.1333, Train Accuracy: 64.62%, Validation Loss: 1.3031, Validation Accuracy: 60.24%\n"
     ]
    },
    {
     "name": "stderr",
     "output_type": "stream",
     "text": [
      "Epoch 10/100: 100%|██████████| 1000/1000 [09:12<00:00,  1.81it/s]\n",
      "Validation: 100%|██████████| 132/132 [01:08<00:00,  1.94it/s]\n"
     ]
    },
    {
     "name": "stdout",
     "output_type": "stream",
     "text": [
      "Epoch 10/100, Train Loss: 1.0583, Train Accuracy: 66.99%, Validation Loss: 1.2101, Validation Accuracy: 61.93%\n"
     ]
    },
    {
     "name": "stderr",
     "output_type": "stream",
     "text": [
      "Epoch 11/100: 100%|██████████| 1000/1000 [09:12<00:00,  1.81it/s]\n",
      "Validation: 100%|██████████| 132/132 [01:08<00:00,  1.94it/s]\n"
     ]
    },
    {
     "name": "stdout",
     "output_type": "stream",
     "text": [
      "Epoch 11/100, Train Loss: 0.9888, Train Accuracy: 69.08%, Validation Loss: 1.3934, Validation Accuracy: 60.29%\n"
     ]
    },
    {
     "name": "stderr",
     "output_type": "stream",
     "text": [
      "Epoch 12/100: 100%|██████████| 1000/1000 [09:08<00:00,  1.82it/s]\n",
      "Validation: 100%|██████████| 132/132 [01:09<00:00,  1.91it/s]\n"
     ]
    },
    {
     "name": "stdout",
     "output_type": "stream",
     "text": [
      "Epoch 12/100, Train Loss: 0.9315, Train Accuracy: 70.37%, Validation Loss: 1.0763, Validation Accuracy: 67.41%\n"
     ]
    },
    {
     "name": "stderr",
     "output_type": "stream",
     "text": [
      "Epoch 13/100: 100%|██████████| 1000/1000 [08:58<00:00,  1.86it/s]\n",
      "Validation: 100%|██████████| 132/132 [01:05<00:00,  2.01it/s]\n"
     ]
    },
    {
     "name": "stdout",
     "output_type": "stream",
     "text": [
      "Epoch 13/100, Train Loss: 0.8721, Train Accuracy: 72.43%, Validation Loss: 1.1065, Validation Accuracy: 66.58%\n"
     ]
    },
    {
     "name": "stderr",
     "output_type": "stream",
     "text": [
      "Epoch 14/100: 100%|██████████| 1000/1000 [09:09<00:00,  1.82it/s]\n",
      "Validation: 100%|██████████| 132/132 [01:03<00:00,  2.08it/s]\n"
     ]
    },
    {
     "name": "stdout",
     "output_type": "stream",
     "text": [
      "Epoch 14/100, Train Loss: 0.8238, Train Accuracy: 73.72%, Validation Loss: 1.7145, Validation Accuracy: 53.03%\n"
     ]
    },
    {
     "name": "stderr",
     "output_type": "stream",
     "text": [
      "Epoch 15/100: 100%|██████████| 1000/1000 [08:59<00:00,  1.86it/s]\n",
      "Validation: 100%|██████████| 132/132 [01:04<00:00,  2.04it/s]\n"
     ]
    },
    {
     "name": "stdout",
     "output_type": "stream",
     "text": [
      "Epoch 15/100, Train Loss: 0.7869, Train Accuracy: 74.87%, Validation Loss: 1.3194, Validation Accuracy: 61.53%\n"
     ]
    },
    {
     "name": "stderr",
     "output_type": "stream",
     "text": [
      "Epoch 16/100: 100%|██████████| 1000/1000 [08:56<00:00,  1.87it/s]\n",
      "Validation: 100%|██████████| 132/132 [01:05<00:00,  2.00it/s]\n"
     ]
    },
    {
     "name": "stdout",
     "output_type": "stream",
     "text": [
      "Epoch 16/100, Train Loss: 0.7434, Train Accuracy: 76.34%, Validation Loss: 1.2086, Validation Accuracy: 65.67%\n"
     ]
    },
    {
     "name": "stderr",
     "output_type": "stream",
     "text": [
      "Epoch 17/100: 100%|██████████| 1000/1000 [08:52<00:00,  1.88it/s]\n",
      "Validation: 100%|██████████| 132/132 [01:06<00:00,  1.99it/s]\n"
     ]
    },
    {
     "name": "stdout",
     "output_type": "stream",
     "text": [
      "Epoch 17/100, Train Loss: 0.6925, Train Accuracy: 77.66%, Validation Loss: 1.0796, Validation Accuracy: 68.44%\n"
     ]
    },
    {
     "name": "stderr",
     "output_type": "stream",
     "text": [
      "Epoch 18/100: 100%|██████████| 1000/1000 [08:52<00:00,  1.88it/s]\n",
      "Validation: 100%|██████████| 132/132 [01:04<00:00,  2.04it/s]\n"
     ]
    },
    {
     "name": "stdout",
     "output_type": "stream",
     "text": [
      "Epoch 18/100, Train Loss: 0.6670, Train Accuracy: 78.43%, Validation Loss: 1.0748, Validation Accuracy: 69.18%\n"
     ]
    },
    {
     "name": "stderr",
     "output_type": "stream",
     "text": [
      "Epoch 19/100: 100%|██████████| 1000/1000 [08:57<00:00,  1.86it/s]\n",
      "Validation: 100%|██████████| 132/132 [01:04<00:00,  2.04it/s]\n"
     ]
    },
    {
     "name": "stdout",
     "output_type": "stream",
     "text": [
      "Epoch 19/100, Train Loss: 0.6332, Train Accuracy: 79.43%, Validation Loss: 0.9311, Validation Accuracy: 72.56%\n"
     ]
    },
    {
     "name": "stderr",
     "output_type": "stream",
     "text": [
      "Epoch 20/100: 100%|██████████| 1000/1000 [08:48<00:00,  1.89it/s]\n",
      "Validation: 100%|██████████| 132/132 [01:04<00:00,  2.05it/s]\n"
     ]
    },
    {
     "name": "stdout",
     "output_type": "stream",
     "text": [
      "Epoch 20/100, Train Loss: 0.6043, Train Accuracy: 80.13%, Validation Loss: 1.0100, Validation Accuracy: 71.25%\n"
     ]
    },
    {
     "name": "stderr",
     "output_type": "stream",
     "text": [
      "Epoch 21/100: 100%|██████████| 1000/1000 [08:39<00:00,  1.93it/s]\n",
      "Validation: 100%|██████████| 132/132 [01:06<00:00,  1.99it/s]\n"
     ]
    },
    {
     "name": "stdout",
     "output_type": "stream",
     "text": [
      "Epoch 21/100, Train Loss: 0.5650, Train Accuracy: 81.69%, Validation Loss: 0.9400, Validation Accuracy: 72.63%\n"
     ]
    },
    {
     "name": "stderr",
     "output_type": "stream",
     "text": [
      "Epoch 22/100: 100%|██████████| 1000/1000 [08:57<00:00,  1.86it/s]\n",
      "Validation: 100%|██████████| 132/132 [01:03<00:00,  2.06it/s]\n"
     ]
    },
    {
     "name": "stdout",
     "output_type": "stream",
     "text": [
      "Epoch 22/100, Train Loss: 0.5389, Train Accuracy: 82.51%, Validation Loss: 0.9415, Validation Accuracy: 72.77%\n"
     ]
    },
    {
     "name": "stderr",
     "output_type": "stream",
     "text": [
      "Epoch 23/100: 100%|██████████| 1000/1000 [09:02<00:00,  1.84it/s]\n",
      "Validation: 100%|██████████| 132/132 [01:03<00:00,  2.06it/s]\n"
     ]
    },
    {
     "name": "stdout",
     "output_type": "stream",
     "text": [
      "Epoch 23/100, Train Loss: 0.5200, Train Accuracy: 83.07%, Validation Loss: 0.9974, Validation Accuracy: 72.56%\n"
     ]
    },
    {
     "name": "stderr",
     "output_type": "stream",
     "text": [
      "Epoch 24/100: 100%|██████████| 1000/1000 [08:47<00:00,  1.89it/s]\n",
      "Validation: 100%|██████████| 132/132 [01:06<00:00,  1.98it/s]\n"
     ]
    },
    {
     "name": "stdout",
     "output_type": "stream",
     "text": [
      "Epoch 24/100, Train Loss: 0.4827, Train Accuracy: 83.94%, Validation Loss: 0.9910, Validation Accuracy: 73.46%\n"
     ]
    },
    {
     "name": "stderr",
     "output_type": "stream",
     "text": [
      "Epoch 25/100: 100%|██████████| 1000/1000 [08:49<00:00,  1.89it/s]\n",
      "Validation: 100%|██████████| 132/132 [01:05<00:00,  2.01it/s]\n"
     ]
    },
    {
     "name": "stdout",
     "output_type": "stream",
     "text": [
      "Epoch 25/100, Train Loss: 0.4629, Train Accuracy: 84.97%, Validation Loss: 1.0444, Validation Accuracy: 72.39%\n"
     ]
    },
    {
     "name": "stderr",
     "output_type": "stream",
     "text": [
      "Epoch 26/100: 100%|██████████| 1000/1000 [08:57<00:00,  1.86it/s]\n",
      "Validation: 100%|██████████| 132/132 [01:01<00:00,  2.15it/s]\n"
     ]
    },
    {
     "name": "stdout",
     "output_type": "stream",
     "text": [
      "Epoch 26/100, Train Loss: 0.4448, Train Accuracy: 85.54%, Validation Loss: 1.0462, Validation Accuracy: 72.03%\n"
     ]
    },
    {
     "name": "stderr",
     "output_type": "stream",
     "text": [
      "Epoch 27/100: 100%|██████████| 1000/1000 [09:01<00:00,  1.85it/s]\n",
      "Validation: 100%|██████████| 132/132 [01:06<00:00,  1.99it/s]\n"
     ]
    },
    {
     "name": "stdout",
     "output_type": "stream",
     "text": [
      "Epoch 27/100, Train Loss: 0.4154, Train Accuracy: 86.04%, Validation Loss: 1.0220, Validation Accuracy: 72.94%\n"
     ]
    },
    {
     "name": "stderr",
     "output_type": "stream",
     "text": [
      "Epoch 28/100: 100%|██████████| 1000/1000 [09:02<00:00,  1.84it/s]\n",
      "Validation: 100%|██████████| 132/132 [01:06<00:00,  1.97it/s]\n"
     ]
    },
    {
     "name": "stdout",
     "output_type": "stream",
     "text": [
      "Epoch 28/100, Train Loss: 0.4048, Train Accuracy: 86.45%, Validation Loss: 1.1329, Validation Accuracy: 71.27%\n"
     ]
    },
    {
     "name": "stderr",
     "output_type": "stream",
     "text": [
      "Epoch 29/100: 100%|██████████| 1000/1000 [08:59<00:00,  1.85it/s]\n",
      "Validation: 100%|██████████| 132/132 [01:05<00:00,  2.02it/s]\n"
     ]
    },
    {
     "name": "stdout",
     "output_type": "stream",
     "text": [
      "Epoch 29/100, Train Loss: 0.3708, Train Accuracy: 87.69%, Validation Loss: 1.0841, Validation Accuracy: 72.99%\n"
     ]
    },
    {
     "name": "stderr",
     "output_type": "stream",
     "text": [
      "Epoch 30/100: 100%|██████████| 1000/1000 [09:00<00:00,  1.85it/s]\n",
      "Validation: 100%|██████████| 132/132 [01:06<00:00,  1.99it/s]\n"
     ]
    },
    {
     "name": "stdout",
     "output_type": "stream",
     "text": [
      "Epoch 30/100, Train Loss: 0.3575, Train Accuracy: 88.01%, Validation Loss: 0.9657, Validation Accuracy: 75.06%\n"
     ]
    },
    {
     "name": "stderr",
     "output_type": "stream",
     "text": [
      "Epoch 31/100: 100%|██████████| 1000/1000 [09:07<00:00,  1.83it/s]\n",
      "Validation: 100%|██████████| 132/132 [01:05<00:00,  2.01it/s]\n"
     ]
    },
    {
     "name": "stdout",
     "output_type": "stream",
     "text": [
      "Epoch 31/100, Train Loss: 0.3414, Train Accuracy: 88.73%, Validation Loss: 1.1521, Validation Accuracy: 72.32%\n"
     ]
    },
    {
     "name": "stderr",
     "output_type": "stream",
     "text": [
      "Epoch 32/100: 100%|██████████| 1000/1000 [09:04<00:00,  1.84it/s]\n",
      "Validation: 100%|██████████| 132/132 [01:06<00:00,  1.98it/s]\n"
     ]
    },
    {
     "name": "stdout",
     "output_type": "stream",
     "text": [
      "Epoch 32/100, Train Loss: 0.3257, Train Accuracy: 89.07%, Validation Loss: 0.9210, Validation Accuracy: 76.75%\n"
     ]
    },
    {
     "name": "stderr",
     "output_type": "stream",
     "text": [
      "Epoch 33/100: 100%|██████████| 1000/1000 [09:01<00:00,  1.85it/s]\n",
      "Validation: 100%|██████████| 132/132 [01:06<00:00,  1.99it/s]\n"
     ]
    },
    {
     "name": "stdout",
     "output_type": "stream",
     "text": [
      "Epoch 33/100, Train Loss: 0.3189, Train Accuracy: 89.32%, Validation Loss: 1.2511, Validation Accuracy: 69.29%\n"
     ]
    },
    {
     "name": "stderr",
     "output_type": "stream",
     "text": [
      "Epoch 34/100: 100%|██████████| 1000/1000 [09:05<00:00,  1.83it/s]\n",
      "Validation: 100%|██████████| 132/132 [01:06<00:00,  1.99it/s]\n"
     ]
    },
    {
     "name": "stdout",
     "output_type": "stream",
     "text": [
      "Epoch 34/100, Train Loss: 0.2935, Train Accuracy: 89.93%, Validation Loss: 1.0512, Validation Accuracy: 75.30%\n"
     ]
    },
    {
     "name": "stderr",
     "output_type": "stream",
     "text": [
      "Epoch 35/100: 100%|██████████| 1000/1000 [08:57<00:00,  1.86it/s]\n",
      "Validation: 100%|██████████| 132/132 [01:01<00:00,  2.14it/s]\n"
     ]
    },
    {
     "name": "stdout",
     "output_type": "stream",
     "text": [
      "Epoch 35/100, Train Loss: 0.2831, Train Accuracy: 90.33%, Validation Loss: 0.9678, Validation Accuracy: 76.61%\n"
     ]
    },
    {
     "name": "stderr",
     "output_type": "stream",
     "text": [
      "Epoch 36/100: 100%|██████████| 1000/1000 [09:03<00:00,  1.84it/s]\n",
      "Validation: 100%|██████████| 132/132 [01:05<00:00,  2.01it/s]\n"
     ]
    },
    {
     "name": "stdout",
     "output_type": "stream",
     "text": [
      "Epoch 36/100, Train Loss: 0.2800, Train Accuracy: 90.61%, Validation Loss: 1.0818, Validation Accuracy: 74.77%\n"
     ]
    },
    {
     "name": "stderr",
     "output_type": "stream",
     "text": [
      "Epoch 37/100: 100%|██████████| 1000/1000 [09:01<00:00,  1.85it/s]\n",
      "Validation: 100%|██████████| 132/132 [01:00<00:00,  2.17it/s]\n"
     ]
    },
    {
     "name": "stdout",
     "output_type": "stream",
     "text": [
      "Epoch 37/100, Train Loss: 0.2553, Train Accuracy: 91.34%, Validation Loss: 1.0573, Validation Accuracy: 75.92%\n"
     ]
    },
    {
     "name": "stderr",
     "output_type": "stream",
     "text": [
      "Epoch 38/100: 100%|██████████| 1000/1000 [09:02<00:00,  1.84it/s]\n",
      "Validation: 100%|██████████| 132/132 [01:06<00:00,  1.97it/s]\n"
     ]
    },
    {
     "name": "stdout",
     "output_type": "stream",
     "text": [
      "Epoch 38/100, Train Loss: 0.2500, Train Accuracy: 91.60%, Validation Loss: 1.1404, Validation Accuracy: 73.20%\n"
     ]
    },
    {
     "name": "stderr",
     "output_type": "stream",
     "text": [
      "Epoch 39/100: 100%|██████████| 1000/1000 [09:06<00:00,  1.83it/s]\n",
      "Validation: 100%|██████████| 132/132 [01:05<00:00,  2.01it/s]\n"
     ]
    },
    {
     "name": "stdout",
     "output_type": "stream",
     "text": [
      "Epoch 39/100, Train Loss: 0.2327, Train Accuracy: 92.26%, Validation Loss: 1.1625, Validation Accuracy: 73.75%\n"
     ]
    },
    {
     "name": "stderr",
     "output_type": "stream",
     "text": [
      "Epoch 40/100: 100%|██████████| 1000/1000 [09:01<00:00,  1.85it/s]\n",
      "Validation: 100%|██████████| 132/132 [01:05<00:00,  2.01it/s]\n"
     ]
    },
    {
     "name": "stdout",
     "output_type": "stream",
     "text": [
      "Epoch 40/100, Train Loss: 0.2306, Train Accuracy: 92.40%, Validation Loss: 1.0443, Validation Accuracy: 77.80%\n"
     ]
    },
    {
     "name": "stderr",
     "output_type": "stream",
     "text": [
      "Epoch 41/100: 100%|██████████| 1000/1000 [08:58<00:00,  1.86it/s]\n",
      "Validation: 100%|██████████| 132/132 [01:06<00:00,  1.99it/s]\n"
     ]
    },
    {
     "name": "stdout",
     "output_type": "stream",
     "text": [
      "Epoch 41/100, Train Loss: 0.2174, Train Accuracy: 92.52%, Validation Loss: 1.0523, Validation Accuracy: 77.11%\n"
     ]
    },
    {
     "name": "stderr",
     "output_type": "stream",
     "text": [
      "Epoch 42/100: 100%|██████████| 1000/1000 [09:03<00:00,  1.84it/s]\n",
      "Validation: 100%|██████████| 132/132 [01:06<00:00,  1.99it/s]\n"
     ]
    },
    {
     "name": "stdout",
     "output_type": "stream",
     "text": [
      "Epoch 42/100, Train Loss: 0.2101, Train Accuracy: 92.90%, Validation Loss: 1.0875, Validation Accuracy: 76.54%\n"
     ]
    },
    {
     "name": "stderr",
     "output_type": "stream",
     "text": [
      "Epoch 43/100: 100%|██████████| 1000/1000 [09:02<00:00,  1.84it/s]\n",
      "Validation: 100%|██████████| 132/132 [01:05<00:00,  2.03it/s]\n"
     ]
    },
    {
     "name": "stdout",
     "output_type": "stream",
     "text": [
      "Epoch 43/100, Train Loss: 0.2069, Train Accuracy: 93.04%, Validation Loss: 1.3165, Validation Accuracy: 71.84%\n"
     ]
    },
    {
     "name": "stderr",
     "output_type": "stream",
     "text": [
      "Epoch 44/100: 100%|██████████| 1000/1000 [08:54<00:00,  1.87it/s]\n",
      "Validation: 100%|██████████| 132/132 [01:06<00:00,  1.99it/s]\n"
     ]
    },
    {
     "name": "stdout",
     "output_type": "stream",
     "text": [
      "Epoch 44/100, Train Loss: 0.1932, Train Accuracy: 93.34%, Validation Loss: 1.0532, Validation Accuracy: 76.58%\n"
     ]
    },
    {
     "name": "stderr",
     "output_type": "stream",
     "text": [
      "Epoch 45/100: 100%|██████████| 1000/1000 [09:03<00:00,  1.84it/s]\n",
      "Validation: 100%|██████████| 132/132 [01:07<00:00,  1.95it/s]\n"
     ]
    },
    {
     "name": "stdout",
     "output_type": "stream",
     "text": [
      "Epoch 45/100, Train Loss: 0.1940, Train Accuracy: 93.32%, Validation Loss: 1.0655, Validation Accuracy: 77.39%\n"
     ]
    },
    {
     "name": "stderr",
     "output_type": "stream",
     "text": [
      "Epoch 46/100: 100%|██████████| 1000/1000 [09:02<00:00,  1.84it/s]\n",
      "Validation: 100%|██████████| 132/132 [01:05<00:00,  2.02it/s]\n"
     ]
    },
    {
     "name": "stdout",
     "output_type": "stream",
     "text": [
      "Epoch 46/100, Train Loss: 0.1778, Train Accuracy: 93.79%, Validation Loss: 1.4517, Validation Accuracy: 70.89%\n"
     ]
    },
    {
     "name": "stderr",
     "output_type": "stream",
     "text": [
      "Epoch 47/100: 100%|██████████| 1000/1000 [08:54<00:00,  1.87it/s]\n",
      "Validation: 100%|██████████| 132/132 [01:03<00:00,  2.06it/s]\n"
     ]
    },
    {
     "name": "stdout",
     "output_type": "stream",
     "text": [
      "Epoch 47/100, Train Loss: 0.1737, Train Accuracy: 94.23%, Validation Loss: 1.5492, Validation Accuracy: 69.51%\n"
     ]
    },
    {
     "name": "stderr",
     "output_type": "stream",
     "text": [
      "Epoch 48/100: 100%|██████████| 1000/1000 [09:01<00:00,  1.85it/s]\n",
      "Validation: 100%|██████████| 132/132 [01:04<00:00,  2.05it/s]\n"
     ]
    },
    {
     "name": "stdout",
     "output_type": "stream",
     "text": [
      "Epoch 48/100, Train Loss: 0.1724, Train Accuracy: 93.94%, Validation Loss: 1.0844, Validation Accuracy: 77.75%\n"
     ]
    },
    {
     "name": "stderr",
     "output_type": "stream",
     "text": [
      "Epoch 49/100: 100%|██████████| 1000/1000 [08:59<00:00,  1.85it/s]\n",
      "Validation: 100%|██████████| 132/132 [01:06<00:00,  1.97it/s]\n"
     ]
    },
    {
     "name": "stdout",
     "output_type": "stream",
     "text": [
      "Epoch 49/100, Train Loss: 0.1629, Train Accuracy: 94.35%, Validation Loss: 1.2157, Validation Accuracy: 74.87%\n"
     ]
    },
    {
     "name": "stderr",
     "output_type": "stream",
     "text": [
      "Epoch 50/100: 100%|██████████| 1000/1000 [09:02<00:00,  1.84it/s]\n",
      "Validation: 100%|██████████| 132/132 [01:06<00:00,  1.99it/s]\n"
     ]
    },
    {
     "name": "stdout",
     "output_type": "stream",
     "text": [
      "Epoch 50/100, Train Loss: 0.1584, Train Accuracy: 94.65%, Validation Loss: 1.1376, Validation Accuracy: 77.27%\n"
     ]
    },
    {
     "name": "stderr",
     "output_type": "stream",
     "text": [
      "Epoch 51/100: 100%|██████████| 1000/1000 [09:04<00:00,  1.84it/s]\n",
      "Validation: 100%|██████████| 132/132 [01:06<00:00,  2.00it/s]\n"
     ]
    },
    {
     "name": "stdout",
     "output_type": "stream",
     "text": [
      "Epoch 51/100, Train Loss: 0.1545, Train Accuracy: 94.79%, Validation Loss: 1.1211, Validation Accuracy: 78.13%\n"
     ]
    },
    {
     "name": "stderr",
     "output_type": "stream",
     "text": [
      "Epoch 52/100: 100%|██████████| 1000/1000 [08:54<00:00,  1.87it/s]\n",
      "Validation: 100%|██████████| 132/132 [01:05<00:00,  2.01it/s]\n"
     ]
    },
    {
     "name": "stdout",
     "output_type": "stream",
     "text": [
      "Epoch 52/100, Train Loss: 0.1529, Train Accuracy: 94.87%, Validation Loss: 1.2126, Validation Accuracy: 75.85%\n"
     ]
    },
    {
     "name": "stderr",
     "output_type": "stream",
     "text": [
      "Epoch 53/100: 100%|██████████| 1000/1000 [09:06<00:00,  1.83it/s]\n",
      "Validation: 100%|██████████| 132/132 [01:04<00:00,  2.04it/s]\n"
     ]
    },
    {
     "name": "stdout",
     "output_type": "stream",
     "text": [
      "Epoch 53/100, Train Loss: 0.1363, Train Accuracy: 95.47%, Validation Loss: 1.1515, Validation Accuracy: 77.75%\n"
     ]
    },
    {
     "name": "stderr",
     "output_type": "stream",
     "text": [
      "Epoch 54/100: 100%|██████████| 1000/1000 [09:04<00:00,  1.84it/s]\n",
      "Validation: 100%|██████████| 132/132 [01:06<00:00,  1.98it/s]\n"
     ]
    },
    {
     "name": "stdout",
     "output_type": "stream",
     "text": [
      "Epoch 54/100, Train Loss: 0.1424, Train Accuracy: 95.12%, Validation Loss: 1.1772, Validation Accuracy: 77.37%\n"
     ]
    },
    {
     "name": "stderr",
     "output_type": "stream",
     "text": [
      "Epoch 55/100: 100%|██████████| 1000/1000 [08:59<00:00,  1.85it/s]\n",
      "Validation: 100%|██████████| 132/132 [01:05<00:00,  2.00it/s]\n"
     ]
    },
    {
     "name": "stdout",
     "output_type": "stream",
     "text": [
      "Epoch 55/100, Train Loss: 0.1385, Train Accuracy: 95.29%, Validation Loss: 1.1498, Validation Accuracy: 76.89%\n"
     ]
    },
    {
     "name": "stderr",
     "output_type": "stream",
     "text": [
      "Epoch 56/100: 100%|██████████| 1000/1000 [09:02<00:00,  1.84it/s]\n",
      "Validation: 100%|██████████| 132/132 [01:03<00:00,  2.08it/s]\n"
     ]
    },
    {
     "name": "stdout",
     "output_type": "stream",
     "text": [
      "Epoch 56/100, Train Loss: 0.1301, Train Accuracy: 95.52%, Validation Loss: 1.1866, Validation Accuracy: 77.08%\n"
     ]
    },
    {
     "name": "stderr",
     "output_type": "stream",
     "text": [
      "Epoch 57/100: 100%|██████████| 1000/1000 [08:57<00:00,  1.86it/s]\n",
      "Validation: 100%|██████████| 132/132 [01:01<00:00,  2.13it/s]\n"
     ]
    },
    {
     "name": "stdout",
     "output_type": "stream",
     "text": [
      "Epoch 57/100, Train Loss: 0.1319, Train Accuracy: 95.52%, Validation Loss: 1.1546, Validation Accuracy: 77.70%\n"
     ]
    },
    {
     "name": "stderr",
     "output_type": "stream",
     "text": [
      "Epoch 58/100: 100%|██████████| 1000/1000 [08:55<00:00,  1.87it/s]\n",
      "Validation: 100%|██████████| 132/132 [01:07<00:00,  1.95it/s]\n"
     ]
    },
    {
     "name": "stdout",
     "output_type": "stream",
     "text": [
      "Epoch 58/100, Train Loss: 0.1326, Train Accuracy: 95.38%, Validation Loss: 1.1777, Validation Accuracy: 77.66%\n"
     ]
    },
    {
     "name": "stderr",
     "output_type": "stream",
     "text": [
      "Epoch 59/100: 100%|██████████| 1000/1000 [08:54<00:00,  1.87it/s]\n",
      "Validation: 100%|██████████| 132/132 [01:05<00:00,  2.00it/s]\n"
     ]
    },
    {
     "name": "stdout",
     "output_type": "stream",
     "text": [
      "Epoch 59/100, Train Loss: 0.1225, Train Accuracy: 95.81%, Validation Loss: 1.1460, Validation Accuracy: 77.75%\n"
     ]
    },
    {
     "name": "stderr",
     "output_type": "stream",
     "text": [
      "Epoch 60/100: 100%|██████████| 1000/1000 [09:03<00:00,  1.84it/s]\n",
      "Validation: 100%|██████████| 132/132 [01:05<00:00,  2.00it/s]\n"
     ]
    },
    {
     "name": "stdout",
     "output_type": "stream",
     "text": [
      "Epoch 60/100, Train Loss: 0.1182, Train Accuracy: 95.94%, Validation Loss: 1.2390, Validation Accuracy: 76.42%\n"
     ]
    },
    {
     "name": "stderr",
     "output_type": "stream",
     "text": [
      "Epoch 61/100: 100%|██████████| 1000/1000 [09:01<00:00,  1.85it/s]\n",
      "Validation: 100%|██████████| 132/132 [01:05<00:00,  2.03it/s]\n"
     ]
    },
    {
     "name": "stdout",
     "output_type": "stream",
     "text": [
      "Epoch 61/100, Train Loss: 0.1219, Train Accuracy: 95.80%, Validation Loss: 1.2455, Validation Accuracy: 76.18%\n"
     ]
    },
    {
     "name": "stderr",
     "output_type": "stream",
     "text": [
      "Epoch 62/100: 100%|██████████| 1000/1000 [09:02<00:00,  1.84it/s]\n",
      "Validation: 100%|██████████| 132/132 [01:06<00:00,  1.97it/s]\n"
     ]
    },
    {
     "name": "stdout",
     "output_type": "stream",
     "text": [
      "Epoch 62/100, Train Loss: 0.1149, Train Accuracy: 96.13%, Validation Loss: 1.2624, Validation Accuracy: 76.92%\n"
     ]
    },
    {
     "name": "stderr",
     "output_type": "stream",
     "text": [
      "Epoch 63/100: 100%|██████████| 1000/1000 [08:58<00:00,  1.86it/s]\n",
      "Validation: 100%|██████████| 132/132 [01:04<00:00,  2.06it/s]\n"
     ]
    },
    {
     "name": "stdout",
     "output_type": "stream",
     "text": [
      "Epoch 63/100, Train Loss: 0.1163, Train Accuracy: 96.09%, Validation Loss: 1.2073, Validation Accuracy: 78.11%\n"
     ]
    },
    {
     "name": "stderr",
     "output_type": "stream",
     "text": [
      "Epoch 64/100: 100%|██████████| 1000/1000 [08:58<00:00,  1.86it/s]\n",
      "Validation: 100%|██████████| 132/132 [01:06<00:00,  1.99it/s]\n"
     ]
    },
    {
     "name": "stdout",
     "output_type": "stream",
     "text": [
      "Epoch 64/100, Train Loss: 0.1075, Train Accuracy: 96.39%, Validation Loss: 1.2234, Validation Accuracy: 77.30%\n"
     ]
    },
    {
     "name": "stderr",
     "output_type": "stream",
     "text": [
      "Epoch 65/100: 100%|██████████| 1000/1000 [09:04<00:00,  1.84it/s]\n",
      "Validation: 100%|██████████| 132/132 [01:04<00:00,  2.04it/s]\n"
     ]
    },
    {
     "name": "stdout",
     "output_type": "stream",
     "text": [
      "Epoch 65/100, Train Loss: 0.1108, Train Accuracy: 96.15%, Validation Loss: 1.2335, Validation Accuracy: 76.87%\n"
     ]
    },
    {
     "name": "stderr",
     "output_type": "stream",
     "text": [
      "Epoch 66/100: 100%|██████████| 1000/1000 [08:52<00:00,  1.88it/s]\n",
      "Validation: 100%|██████████| 132/132 [01:03<00:00,  2.08it/s]\n"
     ]
    },
    {
     "name": "stdout",
     "output_type": "stream",
     "text": [
      "Epoch 66/100, Train Loss: 0.1003, Train Accuracy: 96.68%, Validation Loss: 1.1958, Validation Accuracy: 77.80%\n"
     ]
    },
    {
     "name": "stderr",
     "output_type": "stream",
     "text": [
      "Epoch 67/100: 100%|██████████| 1000/1000 [08:57<00:00,  1.86it/s]\n",
      "Validation: 100%|██████████| 132/132 [00:59<00:00,  2.20it/s]\n"
     ]
    },
    {
     "name": "stdout",
     "output_type": "stream",
     "text": [
      "Epoch 67/100, Train Loss: 0.1035, Train Accuracy: 96.58%, Validation Loss: 1.3779, Validation Accuracy: 75.82%\n"
     ]
    },
    {
     "name": "stderr",
     "output_type": "stream",
     "text": [
      "Epoch 68/100: 100%|██████████| 1000/1000 [09:06<00:00,  1.83it/s]\n",
      "Validation: 100%|██████████| 132/132 [01:05<00:00,  2.01it/s]\n"
     ]
    },
    {
     "name": "stdout",
     "output_type": "stream",
     "text": [
      "Epoch 68/100, Train Loss: 0.1093, Train Accuracy: 96.36%, Validation Loss: 1.2473, Validation Accuracy: 76.18%\n"
     ]
    },
    {
     "name": "stderr",
     "output_type": "stream",
     "text": [
      "Epoch 69/100: 100%|██████████| 1000/1000 [09:03<00:00,  1.84it/s]\n",
      "Validation: 100%|██████████| 132/132 [01:04<00:00,  2.05it/s]\n"
     ]
    },
    {
     "name": "stdout",
     "output_type": "stream",
     "text": [
      "Epoch 69/100, Train Loss: 0.0968, Train Accuracy: 96.73%, Validation Loss: 1.3523, Validation Accuracy: 76.66%\n"
     ]
    },
    {
     "name": "stderr",
     "output_type": "stream",
     "text": [
      "Epoch 70/100: 100%|██████████| 1000/1000 [08:47<00:00,  1.90it/s]\n",
      "Validation: 100%|██████████| 132/132 [01:04<00:00,  2.05it/s]\n"
     ]
    },
    {
     "name": "stdout",
     "output_type": "stream",
     "text": [
      "Epoch 70/100, Train Loss: 0.0975, Train Accuracy: 96.67%, Validation Loss: 1.2305, Validation Accuracy: 79.28%\n"
     ]
    },
    {
     "name": "stderr",
     "output_type": "stream",
     "text": [
      "Epoch 71/100: 100%|██████████| 1000/1000 [08:25<00:00,  1.98it/s]\n",
      "Validation: 100%|██████████| 132/132 [01:03<00:00,  2.09it/s]\n"
     ]
    },
    {
     "name": "stdout",
     "output_type": "stream",
     "text": [
      "Epoch 71/100, Train Loss: 0.0931, Train Accuracy: 96.80%, Validation Loss: 1.2293, Validation Accuracy: 78.28%\n"
     ]
    },
    {
     "name": "stderr",
     "output_type": "stream",
     "text": [
      "Epoch 72/100: 100%|██████████| 1000/1000 [08:31<00:00,  1.96it/s]\n",
      "Validation: 100%|██████████| 132/132 [01:02<00:00,  2.10it/s]\n"
     ]
    },
    {
     "name": "stdout",
     "output_type": "stream",
     "text": [
      "Epoch 72/100, Train Loss: 0.0935, Train Accuracy: 96.75%, Validation Loss: 1.3845, Validation Accuracy: 75.92%\n"
     ]
    },
    {
     "name": "stderr",
     "output_type": "stream",
     "text": [
      "Epoch 73/100: 100%|██████████| 1000/1000 [08:30<00:00,  1.96it/s]\n",
      "Validation: 100%|██████████| 132/132 [01:03<00:00,  2.09it/s]\n"
     ]
    },
    {
     "name": "stdout",
     "output_type": "stream",
     "text": [
      "Epoch 73/100, Train Loss: 0.0993, Train Accuracy: 96.53%, Validation Loss: 1.2692, Validation Accuracy: 77.30%\n"
     ]
    },
    {
     "name": "stderr",
     "output_type": "stream",
     "text": [
      "Epoch 74/100: 100%|██████████| 1000/1000 [08:30<00:00,  1.96it/s]\n",
      "Validation: 100%|██████████| 132/132 [01:03<00:00,  2.09it/s]\n"
     ]
    },
    {
     "name": "stdout",
     "output_type": "stream",
     "text": [
      "Epoch 74/100, Train Loss: 0.0803, Train Accuracy: 97.33%, Validation Loss: 1.2655, Validation Accuracy: 77.49%\n"
     ]
    },
    {
     "name": "stderr",
     "output_type": "stream",
     "text": [
      "Epoch 75/100: 100%|██████████| 1000/1000 [08:28<00:00,  1.97it/s]\n",
      "Validation: 100%|██████████| 132/132 [01:03<00:00,  2.09it/s]\n"
     ]
    },
    {
     "name": "stdout",
     "output_type": "stream",
     "text": [
      "Epoch 75/100, Train Loss: 0.0895, Train Accuracy: 96.92%, Validation Loss: 1.2262, Validation Accuracy: 78.04%\n"
     ]
    },
    {
     "name": "stderr",
     "output_type": "stream",
     "text": [
      "Epoch 76/100: 100%|██████████| 1000/1000 [08:33<00:00,  1.95it/s]\n",
      "Validation: 100%|██████████| 132/132 [01:02<00:00,  2.11it/s]\n"
     ]
    },
    {
     "name": "stdout",
     "output_type": "stream",
     "text": [
      "Epoch 76/100, Train Loss: 0.0874, Train Accuracy: 96.98%, Validation Loss: 1.2398, Validation Accuracy: 78.08%\n"
     ]
    },
    {
     "name": "stderr",
     "output_type": "stream",
     "text": [
      "Epoch 77/100: 100%|██████████| 1000/1000 [09:09<00:00,  1.82it/s]\n",
      "Validation: 100%|██████████| 132/132 [01:09<00:00,  1.89it/s]\n"
     ]
    },
    {
     "name": "stdout",
     "output_type": "stream",
     "text": [
      "Epoch 77/100, Train Loss: 0.0867, Train Accuracy: 97.02%, Validation Loss: 1.3555, Validation Accuracy: 76.44%\n"
     ]
    },
    {
     "name": "stderr",
     "output_type": "stream",
     "text": [
      "Epoch 78/100: 100%|██████████| 1000/1000 [07:53<00:00,  2.11it/s]\n",
      "Validation: 100%|██████████| 132/132 [00:55<00:00,  2.36it/s]\n"
     ]
    },
    {
     "name": "stdout",
     "output_type": "stream",
     "text": [
      "Epoch 78/100, Train Loss: 0.0853, Train Accuracy: 97.20%, Validation Loss: 1.3776, Validation Accuracy: 76.25%\n"
     ]
    },
    {
     "name": "stderr",
     "output_type": "stream",
     "text": [
      "Epoch 79/100: 100%|██████████| 1000/1000 [07:53<00:00,  2.11it/s]\n",
      "Validation: 100%|██████████| 132/132 [00:57<00:00,  2.31it/s]\n"
     ]
    },
    {
     "name": "stdout",
     "output_type": "stream",
     "text": [
      "Epoch 79/100, Train Loss: 0.0818, Train Accuracy: 97.19%, Validation Loss: 1.3143, Validation Accuracy: 77.68%\n"
     ]
    },
    {
     "name": "stderr",
     "output_type": "stream",
     "text": [
      "Epoch 80/100: 100%|██████████| 1000/1000 [07:50<00:00,  2.13it/s]\n",
      "Validation: 100%|██████████| 132/132 [00:57<00:00,  2.31it/s]\n"
     ]
    },
    {
     "name": "stdout",
     "output_type": "stream",
     "text": [
      "Epoch 80/100, Train Loss: 0.0838, Train Accuracy: 97.29%, Validation Loss: 1.2899, Validation Accuracy: 78.30%\n"
     ]
    },
    {
     "name": "stderr",
     "output_type": "stream",
     "text": [
      "Epoch 81/100: 100%|██████████| 1000/1000 [08:05<00:00,  2.06it/s]\n",
      "Validation: 100%|██████████| 132/132 [00:57<00:00,  2.31it/s]\n"
     ]
    },
    {
     "name": "stdout",
     "output_type": "stream",
     "text": [
      "Epoch 81/100, Train Loss: 0.0780, Train Accuracy: 97.41%, Validation Loss: 1.2622, Validation Accuracy: 78.35%\n"
     ]
    },
    {
     "name": "stderr",
     "output_type": "stream",
     "text": [
      "Epoch 82/100: 100%|██████████| 1000/1000 [07:43<00:00,  2.16it/s]\n",
      "Validation: 100%|██████████| 132/132 [00:57<00:00,  2.31it/s]\n"
     ]
    },
    {
     "name": "stdout",
     "output_type": "stream",
     "text": [
      "Epoch 82/100, Train Loss: 0.0816, Train Accuracy: 97.22%, Validation Loss: 1.5261, Validation Accuracy: 75.25%\n"
     ]
    },
    {
     "name": "stderr",
     "output_type": "stream",
     "text": [
      "Epoch 83/100: 100%|██████████| 1000/1000 [07:42<00:00,  2.16it/s]\n",
      "Validation: 100%|██████████| 132/132 [00:57<00:00,  2.30it/s]\n"
     ]
    },
    {
     "name": "stdout",
     "output_type": "stream",
     "text": [
      "Epoch 83/100, Train Loss: 0.0792, Train Accuracy: 97.21%, Validation Loss: 1.2803, Validation Accuracy: 78.35%\n"
     ]
    },
    {
     "name": "stderr",
     "output_type": "stream",
     "text": [
      "Epoch 84/100: 100%|██████████| 1000/1000 [07:37<00:00,  2.19it/s]\n",
      "Validation: 100%|██████████| 132/132 [00:56<00:00,  2.32it/s]\n"
     ]
    },
    {
     "name": "stdout",
     "output_type": "stream",
     "text": [
      "Epoch 84/100, Train Loss: 0.0694, Train Accuracy: 97.64%, Validation Loss: 1.2606, Validation Accuracy: 78.20%\n"
     ]
    },
    {
     "name": "stderr",
     "output_type": "stream",
     "text": [
      "Epoch 85/100: 100%|██████████| 1000/1000 [07:43<00:00,  2.16it/s]\n",
      "Validation: 100%|██████████| 132/132 [00:57<00:00,  2.31it/s]\n"
     ]
    },
    {
     "name": "stdout",
     "output_type": "stream",
     "text": [
      "Epoch 85/100, Train Loss: 0.0878, Train Accuracy: 97.04%, Validation Loss: 1.3169, Validation Accuracy: 77.75%\n"
     ]
    },
    {
     "name": "stderr",
     "output_type": "stream",
     "text": [
      "Epoch 86/100: 100%|██████████| 1000/1000 [07:43<00:00,  2.16it/s]\n",
      "Validation: 100%|██████████| 132/132 [00:56<00:00,  2.33it/s]\n"
     ]
    },
    {
     "name": "stdout",
     "output_type": "stream",
     "text": [
      "Epoch 86/100, Train Loss: 0.0764, Train Accuracy: 97.39%, Validation Loss: 1.1876, Validation Accuracy: 80.06%\n"
     ]
    },
    {
     "name": "stderr",
     "output_type": "stream",
     "text": [
      "Epoch 87/100: 100%|██████████| 1000/1000 [07:43<00:00,  2.16it/s]\n",
      "Validation: 100%|██████████| 132/132 [00:56<00:00,  2.33it/s]\n"
     ]
    },
    {
     "name": "stdout",
     "output_type": "stream",
     "text": [
      "Epoch 87/100, Train Loss: 0.0741, Train Accuracy: 97.55%, Validation Loss: 1.2522, Validation Accuracy: 79.01%\n"
     ]
    },
    {
     "name": "stderr",
     "output_type": "stream",
     "text": [
      "Epoch 88/100: 100%|██████████| 1000/1000 [07:43<00:00,  2.16it/s]\n",
      "Validation: 100%|██████████| 132/132 [00:57<00:00,  2.28it/s]\n"
     ]
    },
    {
     "name": "stdout",
     "output_type": "stream",
     "text": [
      "Epoch 88/100, Train Loss: 0.0731, Train Accuracy: 97.56%, Validation Loss: 1.3649, Validation Accuracy: 76.82%\n"
     ]
    },
    {
     "name": "stderr",
     "output_type": "stream",
     "text": [
      "Epoch 89/100: 100%|██████████| 1000/1000 [07:38<00:00,  2.18it/s]\n",
      "Validation: 100%|██████████| 132/132 [00:57<00:00,  2.31it/s]\n"
     ]
    },
    {
     "name": "stdout",
     "output_type": "stream",
     "text": [
      "Epoch 89/100, Train Loss: 0.0718, Train Accuracy: 97.58%, Validation Loss: 1.3271, Validation Accuracy: 77.94%\n"
     ]
    },
    {
     "name": "stderr",
     "output_type": "stream",
     "text": [
      "Epoch 90/100: 100%|██████████| 1000/1000 [07:37<00:00,  2.19it/s]\n",
      "Validation: 100%|██████████| 132/132 [00:56<00:00,  2.34it/s]\n"
     ]
    },
    {
     "name": "stdout",
     "output_type": "stream",
     "text": [
      "Epoch 90/100, Train Loss: 0.0661, Train Accuracy: 97.79%, Validation Loss: 1.3209, Validation Accuracy: 79.09%\n"
     ]
    },
    {
     "name": "stderr",
     "output_type": "stream",
     "text": [
      "Epoch 91/100: 100%|██████████| 1000/1000 [07:38<00:00,  2.18it/s]\n",
      "Validation: 100%|██████████| 132/132 [00:56<00:00,  2.35it/s]\n"
     ]
    },
    {
     "name": "stdout",
     "output_type": "stream",
     "text": [
      "Epoch 91/100, Train Loss: 0.0726, Train Accuracy: 97.62%, Validation Loss: 1.2544, Validation Accuracy: 79.13%\n"
     ]
    },
    {
     "name": "stderr",
     "output_type": "stream",
     "text": [
      "Epoch 92/100: 100%|██████████| 1000/1000 [07:38<00:00,  2.18it/s]\n",
      "Validation: 100%|██████████| 132/132 [00:55<00:00,  2.37it/s]\n"
     ]
    },
    {
     "name": "stdout",
     "output_type": "stream",
     "text": [
      "Epoch 92/100, Train Loss: 0.0731, Train Accuracy: 97.59%, Validation Loss: 1.3424, Validation Accuracy: 78.39%\n"
     ]
    },
    {
     "name": "stderr",
     "output_type": "stream",
     "text": [
      "Epoch 93/100: 100%|██████████| 1000/1000 [07:37<00:00,  2.18it/s]\n",
      "Validation: 100%|██████████| 132/132 [00:56<00:00,  2.34it/s]\n"
     ]
    },
    {
     "name": "stdout",
     "output_type": "stream",
     "text": [
      "Epoch 93/100, Train Loss: 0.0665, Train Accuracy: 97.79%, Validation Loss: 1.2626, Validation Accuracy: 78.61%\n"
     ]
    },
    {
     "name": "stderr",
     "output_type": "stream",
     "text": [
      "Epoch 94/100: 100%|██████████| 1000/1000 [08:06<00:00,  2.05it/s]\n",
      "Validation: 100%|██████████| 132/132 [01:04<00:00,  2.05it/s]\n"
     ]
    },
    {
     "name": "stdout",
     "output_type": "stream",
     "text": [
      "Epoch 94/100, Train Loss: 0.0659, Train Accuracy: 97.86%, Validation Loss: 1.3309, Validation Accuracy: 78.16%\n"
     ]
    },
    {
     "name": "stderr",
     "output_type": "stream",
     "text": [
      "Epoch 95/100: 100%|██████████| 1000/1000 [08:04<00:00,  2.06it/s]\n",
      "Validation: 100%|██████████| 132/132 [01:00<00:00,  2.17it/s]\n"
     ]
    },
    {
     "name": "stdout",
     "output_type": "stream",
     "text": [
      "Epoch 95/100, Train Loss: 0.0711, Train Accuracy: 97.57%, Validation Loss: 1.2649, Validation Accuracy: 78.89%\n"
     ]
    },
    {
     "name": "stderr",
     "output_type": "stream",
     "text": [
      "Epoch 96/100: 100%|██████████| 1000/1000 [08:02<00:00,  2.07it/s]\n",
      "Validation: 100%|██████████| 132/132 [01:01<00:00,  2.15it/s]\n"
     ]
    },
    {
     "name": "stdout",
     "output_type": "stream",
     "text": [
      "Epoch 96/100, Train Loss: 0.0642, Train Accuracy: 97.84%, Validation Loss: 1.2365, Validation Accuracy: 79.23%\n"
     ]
    },
    {
     "name": "stderr",
     "output_type": "stream",
     "text": [
      "Epoch 97/100: 100%|██████████| 1000/1000 [08:23<00:00,  1.98it/s]\n",
      "Validation: 100%|██████████| 132/132 [01:00<00:00,  2.18it/s]\n"
     ]
    },
    {
     "name": "stdout",
     "output_type": "stream",
     "text": [
      "Epoch 97/100, Train Loss: 0.0643, Train Accuracy: 97.79%, Validation Loss: 1.3026, Validation Accuracy: 78.97%\n"
     ]
    },
    {
     "name": "stderr",
     "output_type": "stream",
     "text": [
      "Epoch 98/100: 100%|██████████| 1000/1000 [08:08<00:00,  2.05it/s]\n",
      "Validation: 100%|██████████| 132/132 [00:56<00:00,  2.33it/s]\n"
     ]
    },
    {
     "name": "stdout",
     "output_type": "stream",
     "text": [
      "Epoch 98/100, Train Loss: 0.0672, Train Accuracy: 97.74%, Validation Loss: 1.3948, Validation Accuracy: 77.80%\n"
     ]
    },
    {
     "name": "stderr",
     "output_type": "stream",
     "text": [
      "Epoch 99/100: 100%|██████████| 1000/1000 [07:14<00:00,  2.30it/s]\n",
      "Validation: 100%|██████████| 132/132 [00:52<00:00,  2.53it/s]\n"
     ]
    },
    {
     "name": "stdout",
     "output_type": "stream",
     "text": [
      "Epoch 99/100, Train Loss: 0.0617, Train Accuracy: 97.87%, Validation Loss: 1.4218, Validation Accuracy: 76.89%\n"
     ]
    },
    {
     "name": "stderr",
     "output_type": "stream",
     "text": [
      "Epoch 100/100: 100%|██████████| 1000/1000 [06:55<00:00,  2.41it/s]\n",
      "Validation: 100%|██████████| 132/132 [00:50<00:00,  2.62it/s]\n"
     ]
    },
    {
     "name": "stdout",
     "output_type": "stream",
     "text": [
      "Epoch 100/100, Train Loss: 0.0614, Train Accuracy: 97.89%, Validation Loss: 1.3857, Validation Accuracy: 78.35%\n",
      "Class 갈비구이 - Train Accuracy: 80.82%, Validation Accuracy: 62.64%\n",
      "Class 갈치구이 - Train Accuracy: 86.81%, Validation Accuracy: 76.26%\n",
      "Class 감자전 - Train Accuracy: 81.89%, Validation Accuracy: 63.68%\n",
      "Class 경단 - Train Accuracy: 86.29%, Validation Accuracy: 70.23%\n",
      "Class 계란국 - Train Accuracy: 90.69%, Validation Accuracy: 80.41%\n",
      "Class 계란말이 - Train Accuracy: 85.72%, Validation Accuracy: 69.05%\n",
      "Class 계란후라이 - Train Accuracy: 90.76%, Validation Accuracy: 66.95%\n",
      "Class 고등어구이 - Train Accuracy: 83.63%, Validation Accuracy: 67.49%\n",
      "Class 곱창구이 - Train Accuracy: 86.66%, Validation Accuracy: 67.58%\n",
      "Class 김밥 - Train Accuracy: 92.70%, Validation Accuracy: 82.99%\n",
      "Class 김치볶음밥 - Train Accuracy: 93.25%, Validation Accuracy: 78.71%\n",
      "Class 김치전 - Train Accuracy: 89.59%, Validation Accuracy: 72.25%\n",
      "Class 꿀떡 - Train Accuracy: 90.88%, Validation Accuracy: 80.16%\n",
      "Class 누룽지 - Train Accuracy: 87.27%, Validation Accuracy: 79.23%\n",
      "Class 닭갈비 - Train Accuracy: 87.31%, Validation Accuracy: 70.65%\n",
      "Class 더덕구이 - Train Accuracy: 86.84%, Validation Accuracy: 68.06%\n",
      "Class 동그랑땡 - Train Accuracy: 83.79%, Validation Accuracy: 65.42%\n",
      "Class 떡갈비 - Train Accuracy: 84.90%, Validation Accuracy: 58.70%\n",
      "Class 떡국_만두국 - Train Accuracy: 87.77%, Validation Accuracy: 69.65%\n",
      "Class 무국 - Train Accuracy: 88.32%, Validation Accuracy: 78.38%\n",
      "Class 미역국 - Train Accuracy: 95.20%, Validation Accuracy: 84.99%\n",
      "Class 북엇국 - Train Accuracy: 85.88%, Validation Accuracy: 53.62%\n",
      "Class 불고기 - Train Accuracy: 83.21%, Validation Accuracy: 60.56%\n",
      "Class 비빔밥 - Train Accuracy: 88.14%, Validation Accuracy: 70.66%\n",
      "Class 삼겹살 - Train Accuracy: 81.60%, Validation Accuracy: 56.58%\n",
      "Class 새우볶음밥 - Train Accuracy: 91.46%, Validation Accuracy: 75.59%\n",
      "Class 생선전 - Train Accuracy: 83.96%, Validation Accuracy: 60.32%\n",
      "Class 송편 - Train Accuracy: 88.38%, Validation Accuracy: 77.21%\n",
      "Class 시래기국 - Train Accuracy: 90.63%, Validation Accuracy: 81.29%\n",
      "Class 알밥 - Train Accuracy: 90.99%, Validation Accuracy: 81.96%\n",
      "Class 유부초밥 - Train Accuracy: 88.20%, Validation Accuracy: 68.05%\n",
      "Class 육개장 - Train Accuracy: 92.17%, Validation Accuracy: 85.14%\n",
      "Class 잡곡밥 - Train Accuracy: 91.53%, Validation Accuracy: 82.62%\n",
      "Class 장어구이 - Train Accuracy: 82.11%, Validation Accuracy: 66.99%\n",
      "Class 조개구이 - Train Accuracy: 92.57%, Validation Accuracy: 82.86%\n",
      "Class 조기구이 - Train Accuracy: 87.02%, Validation Accuracy: 73.29%\n",
      "Class 주먹밥 - Train Accuracy: 83.78%, Validation Accuracy: 69.58%\n",
      "Class 콩나물국 - Train Accuracy: 86.61%, Validation Accuracy: 76.77%\n",
      "Class 파전 - Train Accuracy: 89.32%, Validation Accuracy: 70.13%\n",
      "Class 호박전 - Train Accuracy: 87.52%, Validation Accuracy: 64.96%\n",
      "Class 황태구이 - Train Accuracy: 87.33%, Validation Accuracy: 71.99%\n",
      "Class 훈제오리 - Train Accuracy: 89.39%, Validation Accuracy: 78.19%\n"
     ]
    },
    {
     "data": {
      "image/png": "[encoded data removed]",
      "text/plain": [
       "<Figure size 1200x600 with 2 Axes>"
      ]
     },
     "metadata": {},
     "output_type": "display_data"
    }
   ],
   "source": [
    "criterion = nn.CrossEntropyLoss()\n",
    "optimizer = optim.RAdam(model.parameters(), lr = CFG['LEARNING_RATE'],weight_decay = CFG['weight_decay']) # weight_decay = CFG['weight_decay']\n",
    "train_model(model, criterion, optimizer, num_epochs = CFG[\"EPOCHS\"],  device = device,  class_names = CFG[\"CLASS_NAMES\"] )"
   ]
  },
  {
   "cell_type": "code",
   "execution_count": null,
   "id": "766184c8",
   "metadata": {},
   "outputs": [],
   "source": []
  }
 ],
 "metadata": {
  "kernelspec": {
   "display_name": "Python 3",
   "language": "python",
   "name": "python3"
  },
  "language_info": {
   "codemirror_mode": {
    "name": "ipython",
    "version": 3
   },
   "file_extension": ".py",
   "mimetype": "text/x-python",
   "name": "python",
   "nbconvert_exporter": "python",
   "pygments_lexer": "ipython3",
   "version": "3.10.11"
  }
 },
 "nbformat": 4,
 "nbformat_minor": 5
}
